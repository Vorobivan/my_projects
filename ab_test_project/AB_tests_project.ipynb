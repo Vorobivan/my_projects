{
 "cells": [
  {
   "cell_type": "markdown",
   "metadata": {
    "toc": true
   },
   "source": [
    "<h1>Содержание<span class=\"tocSkip\"></span></h1>\n",
    "<div class=\"toc\"><ul class=\"toc-item\"><li><span><a href=\"#Приоритизация-гипотез\" data-toc-modified-id=\"Приоритизация-гипотез-1\"><span class=\"toc-item-num\">1&nbsp;&nbsp;</span>Приоритизация гипотез</a></span></li><li><span><a href=\"#Анализ-A/B-теста\" data-toc-modified-id=\"Анализ-A/B-теста-2\"><span class=\"toc-item-num\">2&nbsp;&nbsp;</span>Анализ A/B-теста</a></span><ul class=\"toc-item\"><li><span><a href=\"#График-кумулятивной-выручки-по-группам\" data-toc-modified-id=\"График-кумулятивной-выручки-по-группам-2.1\"><span class=\"toc-item-num\">2.1&nbsp;&nbsp;</span>График кумулятивной выручки по группам</a></span></li><li><span><a href=\"#Анализ-аномалий\" data-toc-modified-id=\"Анализ-аномалий-2.2\"><span class=\"toc-item-num\">2.2&nbsp;&nbsp;</span>Анализ аномалий</a></span></li><li><span><a href=\"#Cтатистическая-значимость-различий\" data-toc-modified-id=\"Cтатистическая-значимость-различий-2.3\"><span class=\"toc-item-num\">2.3&nbsp;&nbsp;</span>Cтатистическая значимость различий</a></span></li><li><span><a href=\"#Тестирование-по-«очищенным»-данным\" data-toc-modified-id=\"Тестирование-по-«очищенным»-данным-2.4\"><span class=\"toc-item-num\">2.4&nbsp;&nbsp;</span>Тестирование по «очищенным» данным</a></span></li></ul></li></ul></div>"
   ]
  },
  {
   "cell_type": "markdown",
   "metadata": {},
   "source": [
    "# Анализ гипотез по увеличению выручки интернет-магазина"
   ]
  },
  {
   "cell_type": "code",
   "execution_count": 1,
   "metadata": {},
   "outputs": [],
   "source": [
    "#загрузим все необходимые для работы библиотеки\n",
    "\n",
    "import pandas as pd\n",
    "pd.set_option(\"max_colwidth\", 150)\n",
    "import numpy as np\n",
    "import datetime as dt\n",
    "import scipy.stats as stats\n",
    "import matplotlib.pyplot as plt"
   ]
  },
  {
   "cell_type": "markdown",
   "metadata": {},
   "source": [
    "## Приоритизация гипотез "
   ]
  },
  {
   "cell_type": "code",
   "execution_count": 2,
   "metadata": {},
   "outputs": [],
   "source": [
    "#загрузим данные о гипотезах\n",
    "\n",
    "hypothesis = pd.read_csv('/datasets/hypothesis.csv')"
   ]
  },
  {
   "cell_type": "code",
   "execution_count": 3,
   "metadata": {
    "scrolled": true
   },
   "outputs": [
    {
     "data": {
      "text/html": [
       "<div>\n",
       "<style scoped>\n",
       "    .dataframe tbody tr th:only-of-type {\n",
       "        vertical-align: middle;\n",
       "    }\n",
       "\n",
       "    .dataframe tbody tr th {\n",
       "        vertical-align: top;\n",
       "    }\n",
       "\n",
       "    .dataframe thead th {\n",
       "        text-align: right;\n",
       "    }\n",
       "</style>\n",
       "<table border=\"1\" class=\"dataframe\">\n",
       "  <thead>\n",
       "    <tr style=\"text-align: right;\">\n",
       "      <th></th>\n",
       "      <th>Hypothesis</th>\n",
       "      <th>Reach</th>\n",
       "      <th>Impact</th>\n",
       "      <th>Confidence</th>\n",
       "      <th>Efforts</th>\n",
       "    </tr>\n",
       "  </thead>\n",
       "  <tbody>\n",
       "    <tr>\n",
       "      <th>0</th>\n",
       "      <td>Добавить два новых канала привлечения трафика, что позволит привлекать на 30% больше пользователей</td>\n",
       "      <td>3</td>\n",
       "      <td>10</td>\n",
       "      <td>8</td>\n",
       "      <td>6</td>\n",
       "    </tr>\n",
       "    <tr>\n",
       "      <th>1</th>\n",
       "      <td>Запустить собственную службу доставки, что сократит срок доставки заказов</td>\n",
       "      <td>2</td>\n",
       "      <td>5</td>\n",
       "      <td>4</td>\n",
       "      <td>10</td>\n",
       "    </tr>\n",
       "    <tr>\n",
       "      <th>2</th>\n",
       "      <td>Добавить блоки рекомендаций товаров на сайт интернет магазина, чтобы повысить конверсию и средний чек заказа</td>\n",
       "      <td>8</td>\n",
       "      <td>3</td>\n",
       "      <td>7</td>\n",
       "      <td>3</td>\n",
       "    </tr>\n",
       "    <tr>\n",
       "      <th>3</th>\n",
       "      <td>Изменить структура категорий, что увеличит конверсию, т.к. пользователи быстрее найдут нужный товар</td>\n",
       "      <td>8</td>\n",
       "      <td>3</td>\n",
       "      <td>3</td>\n",
       "      <td>8</td>\n",
       "    </tr>\n",
       "    <tr>\n",
       "      <th>4</th>\n",
       "      <td>Изменить цвет фона главной страницы, чтобы увеличить вовлеченность пользователей</td>\n",
       "      <td>3</td>\n",
       "      <td>1</td>\n",
       "      <td>1</td>\n",
       "      <td>1</td>\n",
       "    </tr>\n",
       "    <tr>\n",
       "      <th>5</th>\n",
       "      <td>Добавить страницу отзывов клиентов о магазине, что позволит увеличить количество заказов</td>\n",
       "      <td>3</td>\n",
       "      <td>2</td>\n",
       "      <td>2</td>\n",
       "      <td>3</td>\n",
       "    </tr>\n",
       "    <tr>\n",
       "      <th>6</th>\n",
       "      <td>Показать на главной странице баннеры с актуальными акциями и распродажами, чтобы увеличить конверсию</td>\n",
       "      <td>5</td>\n",
       "      <td>3</td>\n",
       "      <td>8</td>\n",
       "      <td>3</td>\n",
       "    </tr>\n",
       "    <tr>\n",
       "      <th>7</th>\n",
       "      <td>Добавить форму подписки на все основные страницы, чтобы собрать базу клиентов для email-рассылок</td>\n",
       "      <td>10</td>\n",
       "      <td>7</td>\n",
       "      <td>8</td>\n",
       "      <td>5</td>\n",
       "    </tr>\n",
       "    <tr>\n",
       "      <th>8</th>\n",
       "      <td>Запустить акцию, дающую скидку на товар в день рождения</td>\n",
       "      <td>1</td>\n",
       "      <td>9</td>\n",
       "      <td>9</td>\n",
       "      <td>5</td>\n",
       "    </tr>\n",
       "  </tbody>\n",
       "</table>\n",
       "</div>"
      ],
      "text/plain": [
       "                                                                                                     Hypothesis  \\\n",
       "0            Добавить два новых канала привлечения трафика, что позволит привлекать на 30% больше пользователей   \n",
       "1                                     Запустить собственную службу доставки, что сократит срок доставки заказов   \n",
       "2  Добавить блоки рекомендаций товаров на сайт интернет магазина, чтобы повысить конверсию и средний чек заказа   \n",
       "3           Изменить структура категорий, что увеличит конверсию, т.к. пользователи быстрее найдут нужный товар   \n",
       "4                              Изменить цвет фона главной страницы, чтобы увеличить вовлеченность пользователей   \n",
       "5                      Добавить страницу отзывов клиентов о магазине, что позволит увеличить количество заказов   \n",
       "6          Показать на главной странице баннеры с актуальными акциями и распродажами, чтобы увеличить конверсию   \n",
       "7              Добавить форму подписки на все основные страницы, чтобы собрать базу клиентов для email-рассылок   \n",
       "8                                                       Запустить акцию, дающую скидку на товар в день рождения   \n",
       "\n",
       "   Reach  Impact  Confidence  Efforts  \n",
       "0      3      10           8        6  \n",
       "1      2       5           4       10  \n",
       "2      8       3           7        3  \n",
       "3      8       3           3        8  \n",
       "4      3       1           1        1  \n",
       "5      3       2           2        3  \n",
       "6      5       3           8        3  \n",
       "7     10       7           8        5  \n",
       "8      1       9           9        5  "
      ]
     },
     "execution_count": 3,
     "metadata": {},
     "output_type": "execute_result"
    }
   ],
   "source": [
    "# выведем на экран гипотезы\n",
    "\n",
    "hypothesis\n"
   ]
  },
  {
   "cell_type": "code",
   "execution_count": 4,
   "metadata": {
    "scrolled": true
   },
   "outputs": [
    {
     "data": {
      "text/plain": [
       "array(['Добавить два новых канала привлечения трафика, что позволит привлекать на 30% больше пользователей',\n",
       "       'Запустить собственную службу доставки, что сократит срок доставки заказов',\n",
       "       'Добавить блоки рекомендаций товаров на сайт интернет магазина, чтобы повысить конверсию и средний чек заказа',\n",
       "       'Изменить структура категорий, что увеличит конверсию, т.к. пользователи быстрее найдут нужный товар',\n",
       "       'Изменить цвет фона главной страницы, чтобы увеличить вовлеченность пользователей',\n",
       "       'Добавить страницу отзывов клиентов о магазине, что позволит увеличить количество заказов',\n",
       "       'Показать на главной странице баннеры с актуальными акциями и распродажами, чтобы увеличить конверсию',\n",
       "       'Добавить форму подписки на все основные страницы, чтобы собрать базу клиентов для email-рассылок',\n",
       "       'Запустить акцию, дающую скидку на товар в день рождения'],\n",
       "      dtype=object)"
      ]
     },
     "execution_count": 4,
     "metadata": {},
     "output_type": "execute_result"
    }
   ],
   "source": [
    "# выведем полные названия гипотез\n",
    "\n",
    "hypothesis['Hypothesis'].unique()"
   ]
  },
  {
   "cell_type": "markdown",
   "metadata": {},
   "source": [
    "- Применим фреймворк ICE для приоритизации гипотез. Отсортируем их по убыванию приоритета.\n"
   ]
  },
  {
   "cell_type": "code",
   "execution_count": 5,
   "metadata": {
    "scrolled": true
   },
   "outputs": [
    {
     "data": {
      "text/plain": [
       "8    16.20\n",
       "0    13.33\n",
       "7    11.20\n",
       "6     8.00\n",
       "2     7.00\n",
       "1     2.00\n",
       "5     1.33\n",
       "3     1.12\n",
       "4     1.00\n",
       "Name: ICE, dtype: float64"
      ]
     },
     "execution_count": 5,
     "metadata": {},
     "output_type": "execute_result"
    }
   ],
   "source": [
    "hypothesis['ICE'] = round(hypothesis['Impact']*hypothesis['Confidence'] / hypothesis['Efforts'],2)\n",
    "hypothesis['ICE'].sort_values(ascending=False)\n",
    "\n"
   ]
  },
  {
   "cell_type": "markdown",
   "metadata": {},
   "source": [
    "Самые перспективные для проверки гипотезы при расчете с помощью фрейморка ICE - № 8,0,7"
   ]
  },
  {
   "cell_type": "markdown",
   "metadata": {},
   "source": [
    "- Применим фреймворк RICE для приоритизации гипотез. Отсортируем их по убыванию приоритета.\n"
   ]
  },
  {
   "cell_type": "code",
   "execution_count": 6,
   "metadata": {},
   "outputs": [
    {
     "data": {
      "text/plain": [
       "7    112.0\n",
       "2     56.0\n",
       "0     40.0\n",
       "6     40.0\n",
       "8     16.2\n",
       "3      9.0\n",
       "1      4.0\n",
       "5      4.0\n",
       "4      3.0\n",
       "Name: RICE, dtype: float64"
      ]
     },
     "execution_count": 6,
     "metadata": {},
     "output_type": "execute_result"
    }
   ],
   "source": [
    "hypothesis['RICE'] = hypothesis['Reach']*hypothesis['Impact']*hypothesis['Confidence'] / hypothesis['Efforts']\n",
    "hypothesis['RICE'].sort_values(ascending=False)"
   ]
  },
  {
   "cell_type": "code",
   "execution_count": 7,
   "metadata": {},
   "outputs": [
    {
     "data": {
      "text/html": [
       "<style  type=\"text/css\" >\n",
       "#T_27684_row0_col5{\n",
       "            background-color:  #b5df74;\n",
       "            color:  #000000;\n",
       "        }#T_27684_row0_col6,#T_27684_row4_col5{\n",
       "            background-color:  #006837;\n",
       "            color:  #f1f1f1;\n",
       "        }#T_27684_row1_col5{\n",
       "            background-color:  #fede89;\n",
       "            color:  #000000;\n",
       "        }#T_27684_row1_col6{\n",
       "            background-color:  #fffbb8;\n",
       "            color:  #000000;\n",
       "        }#T_27684_row2_col5{\n",
       "            background-color:  #5db961;\n",
       "            color:  #000000;\n",
       "        }#T_27684_row2_col6,#T_27684_row3_col6{\n",
       "            background-color:  #fdc171;\n",
       "            color:  #000000;\n",
       "        }#T_27684_row3_col5{\n",
       "            background-color:  #fff2aa;\n",
       "            color:  #000000;\n",
       "        }#T_27684_row4_col6{\n",
       "            background-color:  #dd3d2d;\n",
       "            color:  #f1f1f1;\n",
       "        }#T_27684_row5_col5,#T_27684_row6_col6,#T_27684_row7_col6{\n",
       "            background-color:  #a90426;\n",
       "            color:  #f1f1f1;\n",
       "        }#T_27684_row5_col6{\n",
       "            background-color:  #c01a27;\n",
       "            color:  #f1f1f1;\n",
       "        }#T_27684_row6_col5{\n",
       "            background-color:  #c41e27;\n",
       "            color:  #f1f1f1;\n",
       "        }#T_27684_row7_col5{\n",
       "            background-color:  #af0926;\n",
       "            color:  #f1f1f1;\n",
       "        }#T_27684_row8_col5,#T_27684_row8_col6{\n",
       "            background-color:  #a50026;\n",
       "            color:  #f1f1f1;\n",
       "        }</style><table id=\"T_27684_\" ><thead>    <tr>        <th class=\"blank level0\" ></th>        <th class=\"col_heading level0 col0\" >Hypothesis</th>        <th class=\"col_heading level0 col1\" >Reach</th>        <th class=\"col_heading level0 col2\" >Impact</th>        <th class=\"col_heading level0 col3\" >Confidence</th>        <th class=\"col_heading level0 col4\" >Efforts</th>        <th class=\"col_heading level0 col5\" >ICE</th>        <th class=\"col_heading level0 col6\" >RICE</th>    </tr></thead><tbody>\n",
       "                <tr>\n",
       "                        <th id=\"T_27684_level0_row0\" class=\"row_heading level0 row0\" >7</th>\n",
       "                        <td id=\"T_27684_row0_col0\" class=\"data row0 col0\" >Добавить форму подписки на все основные страницы, чтобы собрать базу клиентов для email-рассылок</td>\n",
       "                        <td id=\"T_27684_row0_col1\" class=\"data row0 col1\" >10</td>\n",
       "                        <td id=\"T_27684_row0_col2\" class=\"data row0 col2\" >7</td>\n",
       "                        <td id=\"T_27684_row0_col3\" class=\"data row0 col3\" >8</td>\n",
       "                        <td id=\"T_27684_row0_col4\" class=\"data row0 col4\" >5</td>\n",
       "                        <td id=\"T_27684_row0_col5\" class=\"data row0 col5\" >11.200000</td>\n",
       "                        <td id=\"T_27684_row0_col6\" class=\"data row0 col6\" >112.000000</td>\n",
       "            </tr>\n",
       "            <tr>\n",
       "                        <th id=\"T_27684_level0_row1\" class=\"row_heading level0 row1\" >2</th>\n",
       "                        <td id=\"T_27684_row1_col0\" class=\"data row1 col0\" >Добавить блоки рекомендаций товаров на сайт интернет магазина, чтобы повысить конверсию и средний чек заказа</td>\n",
       "                        <td id=\"T_27684_row1_col1\" class=\"data row1 col1\" >8</td>\n",
       "                        <td id=\"T_27684_row1_col2\" class=\"data row1 col2\" >3</td>\n",
       "                        <td id=\"T_27684_row1_col3\" class=\"data row1 col3\" >7</td>\n",
       "                        <td id=\"T_27684_row1_col4\" class=\"data row1 col4\" >3</td>\n",
       "                        <td id=\"T_27684_row1_col5\" class=\"data row1 col5\" >7.000000</td>\n",
       "                        <td id=\"T_27684_row1_col6\" class=\"data row1 col6\" >56.000000</td>\n",
       "            </tr>\n",
       "            <tr>\n",
       "                        <th id=\"T_27684_level0_row2\" class=\"row_heading level0 row2\" >0</th>\n",
       "                        <td id=\"T_27684_row2_col0\" class=\"data row2 col0\" >Добавить два новых канала привлечения трафика, что позволит привлекать на 30% больше пользователей</td>\n",
       "                        <td id=\"T_27684_row2_col1\" class=\"data row2 col1\" >3</td>\n",
       "                        <td id=\"T_27684_row2_col2\" class=\"data row2 col2\" >10</td>\n",
       "                        <td id=\"T_27684_row2_col3\" class=\"data row2 col3\" >8</td>\n",
       "                        <td id=\"T_27684_row2_col4\" class=\"data row2 col4\" >6</td>\n",
       "                        <td id=\"T_27684_row2_col5\" class=\"data row2 col5\" >13.330000</td>\n",
       "                        <td id=\"T_27684_row2_col6\" class=\"data row2 col6\" >40.000000</td>\n",
       "            </tr>\n",
       "            <tr>\n",
       "                        <th id=\"T_27684_level0_row3\" class=\"row_heading level0 row3\" >6</th>\n",
       "                        <td id=\"T_27684_row3_col0\" class=\"data row3 col0\" >Показать на главной странице баннеры с актуальными акциями и распродажами, чтобы увеличить конверсию</td>\n",
       "                        <td id=\"T_27684_row3_col1\" class=\"data row3 col1\" >5</td>\n",
       "                        <td id=\"T_27684_row3_col2\" class=\"data row3 col2\" >3</td>\n",
       "                        <td id=\"T_27684_row3_col3\" class=\"data row3 col3\" >8</td>\n",
       "                        <td id=\"T_27684_row3_col4\" class=\"data row3 col4\" >3</td>\n",
       "                        <td id=\"T_27684_row3_col5\" class=\"data row3 col5\" >8.000000</td>\n",
       "                        <td id=\"T_27684_row3_col6\" class=\"data row3 col6\" >40.000000</td>\n",
       "            </tr>\n",
       "            <tr>\n",
       "                        <th id=\"T_27684_level0_row4\" class=\"row_heading level0 row4\" >8</th>\n",
       "                        <td id=\"T_27684_row4_col0\" class=\"data row4 col0\" >Запустить акцию, дающую скидку на товар в день рождения</td>\n",
       "                        <td id=\"T_27684_row4_col1\" class=\"data row4 col1\" >1</td>\n",
       "                        <td id=\"T_27684_row4_col2\" class=\"data row4 col2\" >9</td>\n",
       "                        <td id=\"T_27684_row4_col3\" class=\"data row4 col3\" >9</td>\n",
       "                        <td id=\"T_27684_row4_col4\" class=\"data row4 col4\" >5</td>\n",
       "                        <td id=\"T_27684_row4_col5\" class=\"data row4 col5\" >16.200000</td>\n",
       "                        <td id=\"T_27684_row4_col6\" class=\"data row4 col6\" >16.200000</td>\n",
       "            </tr>\n",
       "            <tr>\n",
       "                        <th id=\"T_27684_level0_row5\" class=\"row_heading level0 row5\" >3</th>\n",
       "                        <td id=\"T_27684_row5_col0\" class=\"data row5 col0\" >Изменить структура категорий, что увеличит конверсию, т.к. пользователи быстрее найдут нужный товар</td>\n",
       "                        <td id=\"T_27684_row5_col1\" class=\"data row5 col1\" >8</td>\n",
       "                        <td id=\"T_27684_row5_col2\" class=\"data row5 col2\" >3</td>\n",
       "                        <td id=\"T_27684_row5_col3\" class=\"data row5 col3\" >3</td>\n",
       "                        <td id=\"T_27684_row5_col4\" class=\"data row5 col4\" >8</td>\n",
       "                        <td id=\"T_27684_row5_col5\" class=\"data row5 col5\" >1.120000</td>\n",
       "                        <td id=\"T_27684_row5_col6\" class=\"data row5 col6\" >9.000000</td>\n",
       "            </tr>\n",
       "            <tr>\n",
       "                        <th id=\"T_27684_level0_row6\" class=\"row_heading level0 row6\" >1</th>\n",
       "                        <td id=\"T_27684_row6_col0\" class=\"data row6 col0\" >Запустить собственную службу доставки, что сократит срок доставки заказов</td>\n",
       "                        <td id=\"T_27684_row6_col1\" class=\"data row6 col1\" >2</td>\n",
       "                        <td id=\"T_27684_row6_col2\" class=\"data row6 col2\" >5</td>\n",
       "                        <td id=\"T_27684_row6_col3\" class=\"data row6 col3\" >4</td>\n",
       "                        <td id=\"T_27684_row6_col4\" class=\"data row6 col4\" >10</td>\n",
       "                        <td id=\"T_27684_row6_col5\" class=\"data row6 col5\" >2.000000</td>\n",
       "                        <td id=\"T_27684_row6_col6\" class=\"data row6 col6\" >4.000000</td>\n",
       "            </tr>\n",
       "            <tr>\n",
       "                        <th id=\"T_27684_level0_row7\" class=\"row_heading level0 row7\" >5</th>\n",
       "                        <td id=\"T_27684_row7_col0\" class=\"data row7 col0\" >Добавить страницу отзывов клиентов о магазине, что позволит увеличить количество заказов</td>\n",
       "                        <td id=\"T_27684_row7_col1\" class=\"data row7 col1\" >3</td>\n",
       "                        <td id=\"T_27684_row7_col2\" class=\"data row7 col2\" >2</td>\n",
       "                        <td id=\"T_27684_row7_col3\" class=\"data row7 col3\" >2</td>\n",
       "                        <td id=\"T_27684_row7_col4\" class=\"data row7 col4\" >3</td>\n",
       "                        <td id=\"T_27684_row7_col5\" class=\"data row7 col5\" >1.330000</td>\n",
       "                        <td id=\"T_27684_row7_col6\" class=\"data row7 col6\" >4.000000</td>\n",
       "            </tr>\n",
       "            <tr>\n",
       "                        <th id=\"T_27684_level0_row8\" class=\"row_heading level0 row8\" >4</th>\n",
       "                        <td id=\"T_27684_row8_col0\" class=\"data row8 col0\" >Изменить цвет фона главной страницы, чтобы увеличить вовлеченность пользователей</td>\n",
       "                        <td id=\"T_27684_row8_col1\" class=\"data row8 col1\" >3</td>\n",
       "                        <td id=\"T_27684_row8_col2\" class=\"data row8 col2\" >1</td>\n",
       "                        <td id=\"T_27684_row8_col3\" class=\"data row8 col3\" >1</td>\n",
       "                        <td id=\"T_27684_row8_col4\" class=\"data row8 col4\" >1</td>\n",
       "                        <td id=\"T_27684_row8_col5\" class=\"data row8 col5\" >1.000000</td>\n",
       "                        <td id=\"T_27684_row8_col6\" class=\"data row8 col6\" >3.000000</td>\n",
       "            </tr>\n",
       "    </tbody></table>"
      ],
      "text/plain": [
       "<pandas.io.formats.style.Styler at 0x7fbffcd6ce20>"
      ]
     },
     "execution_count": 7,
     "metadata": {},
     "output_type": "execute_result"
    }
   ],
   "source": [
    "# выведем получившуюся таблицу на экран\n",
    "\n",
    "hypothesis = hypothesis.sort_values(by='RICE',ascending=False)\n",
    "\n",
    "hypothesis.style.background_gradient(cmap='RdYlGn', subset=[\"ICE\", \"RICE\"])"
   ]
  },
  {
   "cell_type": "markdown",
   "metadata": {},
   "source": [
    "Самые перспективные для проверки гипотезы при расчете с помощью фрейморка RICE - № 7,2,0,6"
   ]
  },
  {
   "cell_type": "markdown",
   "metadata": {},
   "source": [
    "При расчете RICE мы использовали дополнительный критерий - Reach, который оценивает число пользователей, которых затронет изменение. У гипотезы № 8 он равен 1, поэтому в общем рейтинге она опустилась на 8 место, а вперед вышла гипотеза № 7, у которой этот показатель равен 10. \n",
    "\n",
    "Гипотеза № 7 предлагает добавить форму подписки на все основные страницы, чтобы собрать базу клиентов для email-рассылок."
   ]
  },
  {
   "cell_type": "markdown",
   "metadata": {},
   "source": [
    "## Анализ A/B-теста"
   ]
  },
  {
   "cell_type": "code",
   "execution_count": 8,
   "metadata": {},
   "outputs": [],
   "source": [
    "# загрузим датафреймы и присвоим им переменные\n",
    "\n",
    "orders = pd.read_csv('/datasets/orders.csv', sep=',')\n",
    "\n",
    "visitors = pd.read_csv('/datasets/visitors.csv', sep=',')\n"
   ]
  },
  {
   "cell_type": "code",
   "execution_count": 9,
   "metadata": {},
   "outputs": [
    {
     "name": "stdout",
     "output_type": "stream",
     "text": [
      "<class 'pandas.core.frame.DataFrame'>\n",
      "RangeIndex: 1197 entries, 0 to 1196\n",
      "Data columns (total 5 columns):\n",
      " #   Column         Non-Null Count  Dtype \n",
      "---  ------         --------------  ----- \n",
      " 0   transactionId  1197 non-null   int64 \n",
      " 1   visitorId      1197 non-null   int64 \n",
      " 2   date           1197 non-null   object\n",
      " 3   revenue        1197 non-null   int64 \n",
      " 4   group          1197 non-null   object\n",
      "dtypes: int64(3), object(2)\n",
      "memory usage: 46.9+ KB\n",
      "None\n",
      "\n",
      "<class 'pandas.core.frame.DataFrame'>\n",
      "RangeIndex: 62 entries, 0 to 61\n",
      "Data columns (total 3 columns):\n",
      " #   Column    Non-Null Count  Dtype \n",
      "---  ------    --------------  ----- \n",
      " 0   date      62 non-null     object\n",
      " 1   group     62 non-null     object\n",
      " 2   visitors  62 non-null     int64 \n",
      "dtypes: int64(1), object(2)\n",
      "memory usage: 1.6+ KB\n",
      "None\n"
     ]
    }
   ],
   "source": [
    "# выведем общую информацию о датафреймах\n",
    "\n",
    "\n",
    "print(orders.info())\n",
    "print()\n",
    "print(visitors.info())"
   ]
  },
  {
   "cell_type": "markdown",
   "metadata": {},
   "source": [
    "В датафрейме orders 1197 строк, пропусков нет.\n",
    "\n",
    "В датафрейме visitors 62 строки, пропусков также нет."
   ]
  },
  {
   "cell_type": "code",
   "execution_count": 10,
   "metadata": {
    "scrolled": true
   },
   "outputs": [
    {
     "name": "stdout",
     "output_type": "stream",
     "text": [
      "   transactionId   visitorId        date  revenue group\n",
      "0     3667963787  3312258926  2019-08-15     1650     B\n",
      "1     2804400009  3642806036  2019-08-15      730     B\n",
      "2     2961555356  4069496402  2019-08-15      400     A\n",
      "3     3797467345  1196621759  2019-08-15     9759     B\n",
      "4     2282983706  2322279887  2019-08-15     2308     B\n",
      "\n",
      "         date group  visitors\n",
      "0  2019-08-01     A       719\n",
      "1  2019-08-02     A       619\n",
      "2  2019-08-03     A       507\n",
      "3  2019-08-04     A       717\n",
      "4  2019-08-05     A       756\n"
     ]
    }
   ],
   "source": [
    "# выведем первые пять строк датафреймов\n",
    "\n",
    "print(orders.head())\n",
    "print()\n",
    "print(visitors.head())"
   ]
  },
  {
   "cell_type": "code",
   "execution_count": 11,
   "metadata": {},
   "outputs": [
    {
     "name": "stdout",
     "output_type": "stream",
     "text": [
      "['B' 'A']\n",
      "['A' 'B']\n"
     ]
    }
   ],
   "source": [
    "# проверим уникальные значения столбцов с категориальными переменными\n",
    "\n",
    "print(orders['group'].unique())\n",
    "\n",
    "print(visitors['group'].unique())"
   ]
  },
  {
   "cell_type": "markdown",
   "metadata": {},
   "source": [
    "Неявных дубликатов нет, все значения корректные."
   ]
  },
  {
   "cell_type": "code",
   "execution_count": 12,
   "metadata": {},
   "outputs": [],
   "source": [
    "# изменим тип данных столбцов date на datetime\n",
    "\n",
    "orders['date'] = orders['date'].map(lambda x: dt.datetime.strptime(x, '%Y-%m-%d'))\n",
    "                                    \n",
    "visitors['date'] = visitors['date'].map(lambda x: dt.datetime.strptime(x, '%Y-%m-%d'))\n"
   ]
  },
  {
   "cell_type": "code",
   "execution_count": 13,
   "metadata": {},
   "outputs": [],
   "source": [
    "# изменим названия столбцов transactionId и visitorId \n",
    "\n",
    "orders.rename(columns={'transactionId':'transaction_id', 'visitorId':'visitor_id'}, inplace=True)\n"
   ]
  },
  {
   "cell_type": "code",
   "execution_count": 14,
   "metadata": {
    "scrolled": true
   },
   "outputs": [
    {
     "data": {
      "text/plain": [
       "0"
      ]
     },
     "execution_count": 14,
     "metadata": {},
     "output_type": "execute_result"
    }
   ],
   "source": [
    "# проверим orders на явные дубликаты\n",
    "\n",
    "orders.duplicated().sum()"
   ]
  },
  {
   "cell_type": "markdown",
   "metadata": {},
   "source": [
    "Явных дубликатов в датафрейме orders не выявлено."
   ]
  },
  {
   "cell_type": "code",
   "execution_count": 15,
   "metadata": {},
   "outputs": [
    {
     "data": {
      "text/plain": [
       "0"
      ]
     },
     "execution_count": 15,
     "metadata": {},
     "output_type": "execute_result"
    }
   ],
   "source": [
    "# проверим visitors на явные дубликаты\n",
    "\n",
    "visitors.duplicated().sum()"
   ]
  },
  {
   "cell_type": "markdown",
   "metadata": {},
   "source": [
    "Явных дубликатов в датафрейме orders не выявлено."
   ]
  },
  {
   "cell_type": "markdown",
   "metadata": {},
   "source": [
    "### График кумулятивной выручки по группам\n"
   ]
  },
  {
   "cell_type": "code",
   "execution_count": 16,
   "metadata": {
    "scrolled": true
   },
   "outputs": [
    {
     "data": {
      "text/html": [
       "<div>\n",
       "<style scoped>\n",
       "    .dataframe tbody tr th:only-of-type {\n",
       "        vertical-align: middle;\n",
       "    }\n",
       "\n",
       "    .dataframe tbody tr th {\n",
       "        vertical-align: top;\n",
       "    }\n",
       "\n",
       "    .dataframe thead th {\n",
       "        text-align: right;\n",
       "    }\n",
       "</style>\n",
       "<table border=\"1\" class=\"dataframe\">\n",
       "  <thead>\n",
       "    <tr style=\"text-align: right;\">\n",
       "      <th></th>\n",
       "      <th>date</th>\n",
       "      <th>group</th>\n",
       "    </tr>\n",
       "  </thead>\n",
       "  <tbody>\n",
       "    <tr>\n",
       "      <th>0</th>\n",
       "      <td>2019-08-15</td>\n",
       "      <td>B</td>\n",
       "    </tr>\n",
       "    <tr>\n",
       "      <th>2</th>\n",
       "      <td>2019-08-15</td>\n",
       "      <td>A</td>\n",
       "    </tr>\n",
       "    <tr>\n",
       "      <th>45</th>\n",
       "      <td>2019-08-16</td>\n",
       "      <td>A</td>\n",
       "    </tr>\n",
       "    <tr>\n",
       "      <th>47</th>\n",
       "      <td>2019-08-16</td>\n",
       "      <td>B</td>\n",
       "    </tr>\n",
       "    <tr>\n",
       "      <th>55</th>\n",
       "      <td>2019-08-01</td>\n",
       "      <td>A</td>\n",
       "    </tr>\n",
       "  </tbody>\n",
       "</table>\n",
       "</div>"
      ],
      "text/plain": [
       "         date group\n",
       "0  2019-08-15     B\n",
       "2  2019-08-15     A\n",
       "45 2019-08-16     A\n",
       "47 2019-08-16     B\n",
       "55 2019-08-01     A"
      ]
     },
     "execution_count": 16,
     "metadata": {},
     "output_type": "execute_result"
    }
   ],
   "source": [
    "# cоздадим массив уникальных пар значений дат и групп теста методом drop_duplicates():\n",
    "\n",
    "dates_groups = orders[['date','group']].drop_duplicates() \n",
    "\n",
    "dates_groups.head()"
   ]
  },
  {
   "cell_type": "code",
   "execution_count": 17,
   "metadata": {},
   "outputs": [
    {
     "data": {
      "text/html": [
       "<div>\n",
       "<style scoped>\n",
       "    .dataframe tbody tr th:only-of-type {\n",
       "        vertical-align: middle;\n",
       "    }\n",
       "\n",
       "    .dataframe tbody tr th {\n",
       "        vertical-align: top;\n",
       "    }\n",
       "\n",
       "    .dataframe thead th {\n",
       "        text-align: right;\n",
       "    }\n",
       "</style>\n",
       "<table border=\"1\" class=\"dataframe\">\n",
       "  <thead>\n",
       "    <tr style=\"text-align: right;\">\n",
       "      <th></th>\n",
       "      <th>date</th>\n",
       "      <th>group</th>\n",
       "      <th>transaction_id</th>\n",
       "      <th>visitor_id</th>\n",
       "      <th>revenue</th>\n",
       "    </tr>\n",
       "  </thead>\n",
       "  <tbody>\n",
       "    <tr>\n",
       "      <th>55</th>\n",
       "      <td>2019-08-01</td>\n",
       "      <td>A</td>\n",
       "      <td>24</td>\n",
       "      <td>20</td>\n",
       "      <td>148579</td>\n",
       "    </tr>\n",
       "    <tr>\n",
       "      <th>66</th>\n",
       "      <td>2019-08-01</td>\n",
       "      <td>B</td>\n",
       "      <td>21</td>\n",
       "      <td>20</td>\n",
       "      <td>101217</td>\n",
       "    </tr>\n",
       "    <tr>\n",
       "      <th>175</th>\n",
       "      <td>2019-08-02</td>\n",
       "      <td>A</td>\n",
       "      <td>44</td>\n",
       "      <td>38</td>\n",
       "      <td>242401</td>\n",
       "    </tr>\n",
       "    <tr>\n",
       "      <th>173</th>\n",
       "      <td>2019-08-02</td>\n",
       "      <td>B</td>\n",
       "      <td>45</td>\n",
       "      <td>43</td>\n",
       "      <td>266748</td>\n",
       "    </tr>\n",
       "    <tr>\n",
       "      <th>291</th>\n",
       "      <td>2019-08-03</td>\n",
       "      <td>A</td>\n",
       "      <td>68</td>\n",
       "      <td>62</td>\n",
       "      <td>354874</td>\n",
       "    </tr>\n",
       "  </tbody>\n",
       "</table>\n",
       "</div>"
      ],
      "text/plain": [
       "          date group  transaction_id  visitor_id  revenue\n",
       "55  2019-08-01     A              24          20   148579\n",
       "66  2019-08-01     B              21          20   101217\n",
       "175 2019-08-02     A              44          38   242401\n",
       "173 2019-08-02     B              45          43   266748\n",
       "291 2019-08-03     A              68          62   354874"
      ]
     },
     "execution_count": 17,
     "metadata": {},
     "output_type": "execute_result"
    }
   ],
   "source": [
    "# соберем агрегированные кумулятивные данные о заказах по дням\n",
    "\n",
    "\n",
    "orders_aggregated = dates_groups.apply(lambda x: orders[np.logical_and(orders['date'] <= x['date'], orders['group'] == x['group'])]\\\n",
    ".agg({\n",
    "    'date' : 'max', \n",
    "    'group' : 'max', \n",
    "    'transaction_id' : 'nunique', \n",
    "    'visitor_id' : 'nunique', \n",
    "    'revenue' : 'sum'\n",
    "    }), axis=1).sort_values(by=['date','group']) \n",
    "\n",
    "orders_aggregated.head()\n",
    "\n",
    "\n",
    "\n"
   ]
  },
  {
   "cell_type": "code",
   "execution_count": 18,
   "metadata": {},
   "outputs": [
    {
     "data": {
      "text/html": [
       "<div>\n",
       "<style scoped>\n",
       "    .dataframe tbody tr th:only-of-type {\n",
       "        vertical-align: middle;\n",
       "    }\n",
       "\n",
       "    .dataframe tbody tr th {\n",
       "        vertical-align: top;\n",
       "    }\n",
       "\n",
       "    .dataframe thead th {\n",
       "        text-align: right;\n",
       "    }\n",
       "</style>\n",
       "<table border=\"1\" class=\"dataframe\">\n",
       "  <thead>\n",
       "    <tr style=\"text-align: right;\">\n",
       "      <th></th>\n",
       "      <th>date</th>\n",
       "      <th>group</th>\n",
       "      <th>visitors</th>\n",
       "    </tr>\n",
       "  </thead>\n",
       "  <tbody>\n",
       "    <tr>\n",
       "      <th>55</th>\n",
       "      <td>2019-08-01</td>\n",
       "      <td>A</td>\n",
       "      <td>719</td>\n",
       "    </tr>\n",
       "    <tr>\n",
       "      <th>66</th>\n",
       "      <td>2019-08-01</td>\n",
       "      <td>B</td>\n",
       "      <td>713</td>\n",
       "    </tr>\n",
       "    <tr>\n",
       "      <th>175</th>\n",
       "      <td>2019-08-02</td>\n",
       "      <td>A</td>\n",
       "      <td>1338</td>\n",
       "    </tr>\n",
       "    <tr>\n",
       "      <th>173</th>\n",
       "      <td>2019-08-02</td>\n",
       "      <td>B</td>\n",
       "      <td>1294</td>\n",
       "    </tr>\n",
       "    <tr>\n",
       "      <th>291</th>\n",
       "      <td>2019-08-03</td>\n",
       "      <td>A</td>\n",
       "      <td>1845</td>\n",
       "    </tr>\n",
       "  </tbody>\n",
       "</table>\n",
       "</div>"
      ],
      "text/plain": [
       "          date group  visitors\n",
       "55  2019-08-01     A       719\n",
       "66  2019-08-01     B       713\n",
       "175 2019-08-02     A      1338\n",
       "173 2019-08-02     B      1294\n",
       "291 2019-08-03     A      1845"
      ]
     },
     "execution_count": 18,
     "metadata": {},
     "output_type": "execute_result"
    }
   ],
   "source": [
    "# получим агрегированные кумулятивные данные о посетителях интернет-магазина по дням\n",
    "\n",
    "visitors_aggregated = dates_groups.apply(lambda x: visitors[np.logical_and(visitors['date'] <= x['date'], visitors['group'] == x['group'])]\\\n",
    ".agg({\n",
    "    'date' : 'max', \n",
    "    'group' : 'max', \n",
    "    'visitors' : 'sum'\n",
    "    }), axis=1).sort_values(by=['date','group']) \n",
    "\n",
    "visitors_aggregated.head()"
   ]
  },
  {
   "cell_type": "code",
   "execution_count": 19,
   "metadata": {
    "scrolled": false
   },
   "outputs": [],
   "source": [
    "# объединим обе таблицы в одну с понятными названиями столбцов:\n",
    "\n",
    "cumulative_data = orders_aggregated.merge(visitors_aggregated, how='left', left_on=['date', 'group'], right_on=['date','group'])\n",
    "cumulative_data.rename(columns={'transaction_id': 'transactions', 'visitor_id':'buyers'}, inplace=True)\n",
    "\n"
   ]
  },
  {
   "cell_type": "code",
   "execution_count": 20,
   "metadata": {
    "scrolled": false
   },
   "outputs": [
    {
     "data": {
      "image/png": "[encoded data removed]",
      "text/plain": [
       "<Figure size 720x360 with 1 Axes>"
      ]
     },
     "metadata": {
      "needs_background": "light"
     },
     "output_type": "display_data"
    }
   ],
   "source": [
    "# посмтроим график кумулятивной выручки по дням\n",
    "\n",
    "# сначала создадим датафрейм с кумулятивным количеством заказов и кумулятивной выручкой по дням в группе А\n",
    "cumulative_revenue_A = cumulative_data[cumulative_data['group']=='A'][['date','revenue', 'transactions']]\n",
    "\n",
    "# и создадим датафрейм с кумулятивным количеством заказов и кумулятивной выручкой по дням в группе B\n",
    "cumulative_revenue_B = cumulative_data[cumulative_data['group']=='B'][['date','revenue', 'transactions']]\n",
    "\n",
    "# теперь посмтроим сам график\n",
    "\n",
    "plt.figure(figsize=(10,5))\n",
    "plt.plot(cumulative_revenue_A['date'], cumulative_revenue_A['revenue'], label='A')\n",
    "plt.plot(cumulative_revenue_B['date'], cumulative_revenue_B['revenue'], label='B')\n",
    "plt.title('График кумулятивной выручки')\n",
    "plt.grid()\n",
    "plt.legend()\n",
    "plt.xlabel(\"Дата\")\n",
    "plt.ylabel(\"Выручка, млн руб.\")\n",
    "plt.show()"
   ]
  },
  {
   "cell_type": "markdown",
   "metadata": {},
   "source": [
    "До середины августа обе группы относительно шли вровень, затем показатель группы B резко подскочил вверх, что может свидельствовать о резком всплеске заказов или наличии аномалии."
   ]
  },
  {
   "cell_type": "code",
   "execution_count": 21,
   "metadata": {
    "scrolled": false
   },
   "outputs": [
    {
     "data": {
      "image/png": "[encoded data removed]",
      "text/plain": [
       "<Figure size 720x360 with 1 Axes>"
      ]
     },
     "metadata": {
      "needs_background": "light"
     },
     "output_type": "display_data"
    }
   ],
   "source": [
    "# построим график кумулятивного среднего чека по группам.\n",
    "\n",
    "plt.figure(figsize=(10,5))\n",
    "plt.plot(cumulative_revenue_A['date'], cumulative_revenue_A['revenue'] / cumulative_revenue_A['transactions'], label='A')\n",
    "plt.plot(cumulative_revenue_B['date'], cumulative_revenue_B['revenue'] / cumulative_revenue_B['transactions'], label='B')\n",
    "plt.title('График кумулятивного среднего чека')\n",
    "plt.grid()\n",
    "plt.legend()\n",
    "plt.xlabel(\"Дата\")\n",
    "plt.ylabel(\"Средний чек, руб.\")\n",
    "plt.show()\n",
    "\n"
   ]
  },
  {
   "cell_type": "markdown",
   "metadata": {},
   "source": [
    "На графике среднего чека в начале периода группы ведут себя нестабильно. В середине августа фиксируется резкий рост среднего чека группы B. Далее кривые относительно стабилизируются. "
   ]
  },
  {
   "cell_type": "code",
   "execution_count": 22,
   "metadata": {},
   "outputs": [
    {
     "data": {
      "image/png": "[encoded data removed]",
      "text/plain": [
       "<Figure size 720x360 with 1 Axes>"
      ]
     },
     "metadata": {
      "needs_background": "light"
     },
     "output_type": "display_data"
    }
   ],
   "source": [
    "# построим график относительного изменения кумулятивного среднего чека группы B к группе A\n",
    "\n",
    "merged_сumulative_revenue = cumulative_revenue_A.merge(cumulative_revenue_B, how='left', left_on=['date'], right_on=['date'], suffixes=['_A','_B'])\n",
    "\n",
    "plt.figure(figsize=(10,5))\n",
    "plt.plot(merged_сumulative_revenue['date'], merged_сumulative_revenue['revenue_B'] / merged_сumulative_revenue['transactions_B'] /(merged_сumulative_revenue['revenue_A'] / merged_сumulative_revenue['transactions_A'])-1)\n",
    "plt.axhline(y=0, color='black', linestyle='--')\n",
    "plt.grid()\n",
    "plt.title('График относительного изменения кумулятивного среднего чека')\n",
    "plt.xlabel(\"Дата\")\n",
    "plt.ylabel(\"Относительное изменение, %\")\n",
    "plt.show()"
   ]
  },
  {
   "cell_type": "markdown",
   "metadata": {},
   "source": [
    "Показатель среднего чека группы B начинает резко расти в начале периода, затем в середине августа он также резко падает. В середине августа он опять начинает резко расти. В конце периода группа B показывает сильно лучшие результаты, чем группа A.  \n",
    "\n",
    "График ведет себя нестабильно. Скорее всего, в датасете много выбросов и аномальных значений. "
   ]
  },
  {
   "cell_type": "code",
   "execution_count": 23,
   "metadata": {},
   "outputs": [
    {
     "data": {
      "image/png": "[encoded data removed]",
      "text/plain": [
       "<Figure size 720x360 with 1 Axes>"
      ]
     },
     "metadata": {
      "needs_background": "light"
     },
     "output_type": "display_data"
    }
   ],
   "source": [
    "# построим график кумулятивного среднего количества заказов на посетителя по группам\n",
    "\n",
    "# считаем кумулятивную конверсию - отношение количества заказов на посетителя\n",
    "cumulative_data['conversion'] = cumulative_data['transactions'] / cumulative_data['visitors']\n",
    "\n",
    "\n",
    "# отделяем данные по группе A\n",
    "\n",
    "cumulative_data_A = cumulative_data[cumulative_data['group'] == 'A']\n",
    "\n",
    "\n",
    "# отделяем данные по группе B\n",
    "\n",
    "cumulative_data_B = cumulative_data[cumulative_data['group'] == 'B']\n",
    "\n",
    "\n",
    "# строим графики\n",
    "\n",
    "plt.figure(figsize=(10,5))\n",
    "plt.plot(cumulative_data_A['date'], cumulative_data_A['conversion'], label='A')\n",
    "plt.plot(cumulative_data_B['date'], cumulative_data_B['conversion'], label='B')\n",
    "plt.legend()\n",
    "plt.grid()\n",
    "plt.title('График кумулятивного среднего количества заказов на посетителя по группам')\n",
    "plt.xlabel(\"Дата\")\n",
    "plt.ylabel(\"Конверсия, %\")\n",
    "plt.show()"
   ]
  },
  {
   "cell_type": "markdown",
   "metadata": {},
   "source": [
    "На протяжении всего периода график сильно скачет. В конце периода конверсия группы B превосходит показатели группы A."
   ]
  },
  {
   "cell_type": "code",
   "execution_count": 24,
   "metadata": {
    "scrolled": false
   },
   "outputs": [
    {
     "data": {
      "image/png": "[encoded data removed]",
      "text/plain": [
       "<Figure size 720x360 with 1 Axes>"
      ]
     },
     "metadata": {
      "needs_background": "light"
     },
     "output_type": "display_data"
    }
   ],
   "source": [
    "# построим график относительного изменения кумулятивного среднего количества заказов на посетителя группы B к группе A\n",
    "\n",
    "merge_cumulative_conversion = cumulative_data_A.merge(cumulative_data_B, how='left', left_on='date', right_on='date', suffixes=['_A', '_B'])\n",
    "\n",
    "plt.figure(figsize=(10,5))\n",
    "plt.plot(merge_cumulative_conversion['date'], merge_cumulative_conversion['conversion_B'] /  merge_cumulative_conversion['conversion_A'] - 1)\n",
    "plt.axhline(y=0, color='black', linestyle='--')\n",
    "plt.title('График относительного изменения кумулятивного среднего количества заказов')\n",
    "plt.xlabel(\"Дата\")\n",
    "plt.ylabel(\"Относительное изменение, %\")\n",
    "plt.grid()\n",
    "plt.show()\n",
    "\n",
    "\n",
    "\n",
    "\n"
   ]
  },
  {
   "cell_type": "markdown",
   "metadata": {},
   "source": [
    "Конверсия группы B показывает результат лучше группы A."
   ]
  },
  {
   "cell_type": "markdown",
   "metadata": {},
   "source": [
    "### Анализ аномалий"
   ]
  },
  {
   "cell_type": "code",
   "execution_count": 25,
   "metadata": {
    "scrolled": true
   },
   "outputs": [
    {
     "data": {
      "image/png": "[encoded data removed]",
      "text/plain": [
       "<Figure size 432x288 with 1 Axes>"
      ]
     },
     "metadata": {
      "needs_background": "light"
     },
     "output_type": "display_data"
    }
   ],
   "source": [
    "# построим точечный график количества заказов по пользователям\n",
    "\n",
    "\n",
    "# сгруппируем данные по пользователям, посчитаем число заказов по каждому из них\n",
    "orders_by_visitors = orders.groupby('visitor_id', as_index=False).agg({'transaction_id':'nunique'})\n",
    "orders_by_visitors.columns = ['visitor_id', 'transactions']\n",
    "\n",
    "# построим диаграмму рассеяния\n",
    "\n",
    "x_values = pd.Series(range(0,len(orders_by_visitors)))\n",
    "plt.scatter(x_values, orders_by_visitors['transactions'])\n",
    "plt.grid()\n",
    "plt.xlabel(\"Число пользователей\")\n",
    "plt.ylabel(\"Кол-во заказов\")\n",
    "plt.show()"
   ]
  },
  {
   "cell_type": "markdown",
   "metadata": {},
   "source": [
    "На графике мы видим, что в датасете есть пользователи с аномальными показателями - те из них, кто сделал 3 и больше заказов.  "
   ]
  },
  {
   "cell_type": "code",
   "execution_count": 26,
   "metadata": {},
   "outputs": [
    {
     "data": {
      "text/plain": [
       "array([2., 4.])"
      ]
     },
     "execution_count": 26,
     "metadata": {},
     "output_type": "execute_result"
    }
   ],
   "source": [
    "# посчитаем 95-й и 99-й перцентили количества заказов на пользователя\n",
    "\n",
    "np.percentile(orders_by_visitors['transactions'], [95,99])\n"
   ]
  },
  {
   "cell_type": "markdown",
   "metadata": {},
   "source": [
    "Только 5% покупателей сделали больше двух заказов. И только 1% - больше четырех.\n",
    "\n",
    "Для дальнейших расчетов определим границу для определения аномальных пользователей в 2 заказа."
   ]
  },
  {
   "cell_type": "code",
   "execution_count": 27,
   "metadata": {},
   "outputs": [
    {
     "name": "stdout",
     "output_type": "stream",
     "text": [
      "Медианная стоимость заказа:2978.0\n"
     ]
    },
    {
     "data": {
      "image/png": "[encoded data removed]",
      "text/plain": [
       "<Figure size 432x288 with 1 Axes>"
      ]
     },
     "metadata": {
      "needs_background": "light"
     },
     "output_type": "display_data"
    }
   ],
   "source": [
    "# построим точечный график стоимостей заказов\n",
    "\n",
    "x_values = pd.Series(range(0,len(orders['revenue'])))\n",
    "plt.scatter(x_values, orders['revenue'])\n",
    "\n",
    "median = orders['revenue'].median()\n",
    "print(f'Медианная стоимость заказа:{median}')\n",
    "plt.grid()\n",
    "plt.xlabel(\"Число пользователей\")\n",
    "plt.ylabel(\"Стоимость заказа, млн руб.\")\n",
    "plt.show()"
   ]
  },
  {
   "cell_type": "markdown",
   "metadata": {},
   "source": [
    "На диаграмме мы видим два аномальных заказа. Стоимость первого составила более 1,2 млн рублей Второго - около 200 тыс. рублей. При этом медианный показатель стоимость заказа равняется 2,9 тыс. рублей.\n",
    "\n",
    "\n",
    "\n"
   ]
  },
  {
   "cell_type": "code",
   "execution_count": 28,
   "metadata": {},
   "outputs": [
    {
     "data": {
      "text/plain": [
       "array([28000. , 58233.2])"
      ]
     },
     "execution_count": 28,
     "metadata": {},
     "output_type": "execute_result"
    }
   ],
   "source": [
    "# посчитаем 95-й и 99-й перцентили стоимости заказов\n",
    "\n",
    "np.percentile(orders['revenue'], [95,99])\n",
    "\n"
   ]
  },
  {
   "cell_type": "markdown",
   "metadata": {},
   "source": [
    "Только 5% заказов в нашем датасете дороже 28 тыс. рублей и только 1% - дороже 58,2 тыс. рублей. Как границу для расчетов определим первое значение - 95-й процентиль, 28 тыс. рублей."
   ]
  },
  {
   "cell_type": "markdown",
   "metadata": {},
   "source": [
    "### Cтатистическая значимость различий"
   ]
  },
  {
   "cell_type": "markdown",
   "metadata": {},
   "source": [
    "Посчитаем статистическую значимость различий в среднем числе заказов на пользователя и среднем чеке между группами по «сырым» данным — до удаления аномальных пользователей.\n",
    "\n",
    "Сформулируем гипотезы. Нулевая: различий в среднем количестве заказов между группами нет. Альтернативная: различия в среднем между группами есть.\n",
    "\n",
    "Начнём с подготовки данных. "
   ]
  },
  {
   "cell_type": "code",
   "execution_count": 29,
   "metadata": {
    "scrolled": true
   },
   "outputs": [],
   "source": [
    "# создадим датафреймы с числом заказов по пользователям для групп A и B\n",
    "\n",
    "orders_by_visitors_a = orders[orders['group'] == 'A'].groupby('visitor_id', as_index = False).agg({'transaction_id':'nunique'})\n",
    "orders_by_visitors_a.columns = ['visitor_id', 'transactions']\n",
    "\n",
    "orders_by_visitors_b = orders[orders['group'] == 'B'].groupby('visitor_id', as_index = False).agg({'transaction_id':'nunique'})\n",
    "orders_by_visitors_b.columns = ['visitor_id', 'transactions']\n",
    "\n",
    "# создадим датафреймы с числом посетителей по дням\n",
    "\n",
    "visitors_per_date_a = visitors[visitors['group'] == 'A'][['date', 'visitors']]\n",
    "visitors_per_date_b = visitors[visitors['group'] == 'B'][['date', 'visitors']]\n"
   ]
  },
  {
   "cell_type": "code",
   "execution_count": 30,
   "metadata": {},
   "outputs": [
    {
     "name": "stdout",
     "output_type": "stream",
     "text": [
      "P-value: 0.017\n",
      "Относительный прирост группы B: 0.138\n"
     ]
    }
   ],
   "source": [
    "# посчитаем статистическую значимость различий в среднем количестве заказов на посетителя между группами по «сырым» данным\n",
    "# объявим переменные sample_a и sample_b, в которых пользователям из разных групп будет соответствовать количество заказов \n",
    "\n",
    "sample_a = pd.concat(\n",
    "    [\n",
    "    orders_by_visitors_a['transactions'],\n",
    "    pd.Series(\n",
    "        0, index=np.arange(visitors_per_date_a['visitors'].sum() - len(orders_by_visitors_a['transactions'])), \n",
    "              name='transactions'\n",
    "             )\n",
    "],\n",
    "    axis=0\n",
    ")\n",
    "\n",
    "\n",
    "sample_b = pd.concat(\n",
    "    [\n",
    "    orders_by_visitors_b['transactions'],\n",
    "    pd.Series(\n",
    "        0, index=np.arange(visitors_per_date_b['visitors'].sum() - len(orders_by_visitors_b['transactions'])), \n",
    "              name='transactions'\n",
    "             )\n",
    "],\n",
    "    axis=0\n",
    ") \n",
    "\n",
    "# применим тест Манна-Уитни для расчета статистической значимости \n",
    "# и выведем относительный прирост среднего числа заказов группы B\n",
    "\n",
    "\n",
    "print(\"P-value:\",\"{0:.3f}\".format(stats.mannwhitneyu(sample_a, sample_b)[1]))\n",
    "\n",
    "print(\"Относительный прирост группы B:\", \"{0:.3f}\".format(sample_b.mean() / sample_a.mean() - 1))\n"
   ]
  },
  {
   "cell_type": "markdown",
   "metadata": {},
   "source": [
    "P-value равняется 0.017, что ниже порога статистической значимости в 0.05. Нулевую гипотезу о том, что статистически значимых различий в среднем числе заказов между группами нет, отвергаем. Относительный прирост группы B составил почти 14%."
   ]
  },
  {
   "cell_type": "markdown",
   "metadata": {},
   "source": [
    "Теперь проверим статистическую значимость различий в среднем чеке между сегментами. \n",
    "\n",
    "- Нулевая гипотеза: различий в среднем чеке между группами нет. \n",
    "- Альтернативная гипотеза: различия в среднем чеке между группами есть. "
   ]
  },
  {
   "cell_type": "code",
   "execution_count": 31,
   "metadata": {
    "scrolled": true
   },
   "outputs": [
    {
     "name": "stdout",
     "output_type": "stream",
     "text": [
      "P-value: 0.729\n",
      "Относительный прирост группы B: 0.259\n"
     ]
    }
   ],
   "source": [
    "# посчитаем статистическую значимость различий в среднем чеке заказа между группами по «сырым» данным\n",
    "\n",
    "\n",
    "print('P-value:','{0:.3f}'.format(\n",
    "    stats.mannwhitneyu(orders[orders['group']=='A']['revenue'], \n",
    "                       orders[orders['group']=='B']['revenue'])[1] \n",
    ")\n",
    "     )\n",
    "\n",
    "\n",
    "\n",
    "print('Относительный прирост группы B:','{0:.3f}'.format(\n",
    "    orders[orders['group']=='B']['revenue'].mean()/orders[orders['group']=='A']['revenue'].mean()-1\n",
    ")\n",
    "     ) \n",
    "\n",
    "\n"
   ]
  },
  {
   "cell_type": "markdown",
   "metadata": {},
   "source": [
    "Тест не выявил статистически значимых различий между средними чеками двух групп. Нулевую гипотезу отвергнуть не получилось. При этом относительный выигрыш группы B равен почти 26%. \n",
    "\n",
    "Фиксируем ошибку второго рода — ложнонегативный результат. Различия между группами есть, но тест показал p-value больше уровня значимости."
   ]
  },
  {
   "cell_type": "markdown",
   "metadata": {},
   "source": [
    "### Тестирование по «очищенным» данным"
   ]
  },
  {
   "cell_type": "markdown",
   "metadata": {},
   "source": [
    "Узнаем, как аномальные пользователи повлияли на статистическую значимость теста. \n",
    "Нулевая и альтернативная гипотезы те же. Нулевая: различий в среднем количестве заказов между группами нет. Альтернативная: различия в среднем между группами есть.\n",
    "\n",
    "\n",
    "- Примем стоимость заказов дороже 28 тыс. рублей за аномальную - только 5% заказов в нашем датасете будут дороже, \n",
    "- примем число заказов, больше двух, за аномальное - только у 5% клиентов их число будет больше"
   ]
  },
  {
   "cell_type": "code",
   "execution_count": 32,
   "metadata": {
    "scrolled": true
   },
   "outputs": [
    {
     "name": "stdout",
     "output_type": "stream",
     "text": [
      "1099    148427295\n",
      "18      199603092\n",
      "928     204675465\n",
      "23      237748145\n",
      "37      249864742\n",
      "Name: visitor_id, dtype: int64\n",
      "\n",
      "Число аномальных клиентов: 74\n"
     ]
    }
   ],
   "source": [
    "# узнаем, сколько всего аномальных пользователей\n",
    "\n",
    "visitors_with_many_orders = pd.concat(\n",
    "    [\n",
    "        orders_by_visitors_a[orders_by_visitors_a['transactions'] > 2]['visitor_id'],\n",
    "        orders_by_visitors_b[orders_by_visitors_b['transactions'] > 2]['visitor_id'],\n",
    "    ],\n",
    "    axis=0,\n",
    ")\n",
    "\n",
    "visitors_with_expensive_orders = orders[orders['revenue'] > 28000]['visitor_id']\n",
    "\n",
    "\n",
    "abnormal_visitors = (\n",
    "    pd.concat([visitors_with_many_orders, visitors_with_expensive_orders], axis=0)\n",
    "    .drop_duplicates()\n",
    "    .sort_values()\n",
    ")\n",
    "\n",
    "print(abnormal_visitors.head(5))\n",
    "print()\n",
    "print('Число аномальных клиентов:', abnormal_visitors.shape[0]) \n"
   ]
  },
  {
   "cell_type": "markdown",
   "metadata": {},
   "source": [
    "Узнаем, как аномальные показатели повлияли на результаты теста."
   ]
  },
  {
   "cell_type": "code",
   "execution_count": 33,
   "metadata": {
    "scrolled": true
   },
   "outputs": [
    {
     "name": "stdout",
     "output_type": "stream",
     "text": [
      "P-value: 0.013\n",
      "Относительный прирост группы B: 0.173\n"
     ]
    }
   ],
   "source": [
    "# посчитаем по очищенным данным различия в числе заказов\n",
    "\n",
    "sample_a_filtered = pd.concat(\n",
    "    [\n",
    "    orders_by_visitors_a[\n",
    "        np.logical_not(orders_by_visitors_a['visitor_id'].isin(abnormal_visitors))\n",
    "    ]['transactions'],\n",
    "    pd.Series(\n",
    "        0, index=np.arange(visitors_per_date_a['visitors'].sum() - len(orders_by_visitors_a['transactions'])), \n",
    "              name='transactions'\n",
    "             )\n",
    "],\n",
    "    axis=0\n",
    ")\n",
    "\n",
    "\n",
    "sample_b_filtered = pd.concat(\n",
    "    [\n",
    "    orders_by_visitors_b[\n",
    "        np.logical_not(orders_by_visitors_b['visitor_id'].isin(abnormal_visitors))\n",
    "    ]['transactions'],\n",
    "    pd.Series(\n",
    "        0, index=np.arange(visitors_per_date_b['visitors'].sum() - len(orders_by_visitors_b['transactions'])), \n",
    "              name='transactions'\n",
    "             )\n",
    "],\n",
    "    axis=0\n",
    ") \n",
    "\n",
    "# применим тест Манна-Уитни для расчета статистической значимости \n",
    "# и выведем относительный прирост среднего числа заказов группы B\n",
    "\n",
    "\n",
    "print(\"P-value:\",\"{0:.3f}\".format(stats.mannwhitneyu(sample_a_filtered, sample_b_filtered)[1]))\n",
    "\n",
    "print(\"Относительный прирост группы B:\", \"{0:.3f}\".format(sample_b_filtered.mean() / sample_a_filtered.mean() - 1))"
   ]
  },
  {
   "cell_type": "markdown",
   "metadata": {},
   "source": [
    "По результатам теста по очищенным данным мы видим наличие статистически значимой разницы между двумя группами. P-value ниже 0,05 - нулевую гипотезу о равенстве двух групп отвергаем. \n",
    "\n",
    "По приросту числа заказов на посетителя группа B теперь показывает лучшие результаты - относительно группы A она приросла на 17%.\n",
    "***"
   ]
  },
  {
   "cell_type": "markdown",
   "metadata": {},
   "source": [
    "Теперь по \"очищенным данным\" проверим статистическую значимость различий в среднем чеке между сегментами.\n",
    "\n",
    " - Нулевая гипотеза: различий в среднем чеке между группами нет. \n",
    " - Альтернативная гипотеза: различия в среднем чеке между группами есть.\n"
   ]
  },
  {
   "cell_type": "code",
   "execution_count": 34,
   "metadata": {},
   "outputs": [
    {
     "name": "stdout",
     "output_type": "stream",
     "text": [
      "P-value: 0.738\n",
      "Относительный прирост группы B: -0.020\n"
     ]
    }
   ],
   "source": [
    "# посчитаем статистическую значимость различий в среднем чеке по «очищенным» данным\n",
    "\n",
    "  \n",
    "print('P-value:','{0:.3f}'.format( \n",
    "   stats.mannwhitneyu(\n",
    "    orders[\n",
    "        np.logical_and(\n",
    "            orders['group'] == 'A', \n",
    "            np.logical_not(orders['visitor_id'].isin(abnormal_visitors))\n",
    "        )\n",
    "        ]['revenue'], \n",
    "        orders[np.logical_and(orders['group'] == 'B',\n",
    "                             np.logical_not(orders['visitor_id'].isin(abnormal_visitors)))\n",
    "             ]['revenue'], alternative=\"two-sided\")[1]\n",
    ") \n",
    "     )\n",
    "       \n",
    "print('Относительный прирост группы B:','{0:.3f}'.format(   \n",
    "    orders[np.logical_and(orders['group']=='B', np.logical_not(orders['visitor_id'].isin(abnormal_visitors)))\n",
    "          ]['revenue'].mean()\n",
    "    /orders[np.logical_and(orders['group']=='A', np.logical_not(orders['visitor_id'].isin(abnormal_visitors)))\n",
    "           ]['revenue'].mean()-1)\n",
    ") \n"
   ]
  },
  {
   "cell_type": "markdown",
   "metadata": {},
   "source": [
    "Тест по чистым данным не выявил статистической разницы различий в среднем чеке между группой A и группой B. Нулевую гипотезу не отвергаем. При этом относительный проигрыш среднего чека группы B составил 2%.  "
   ]
  },
  {
   "attachments": {
    "image-10.png": {
     "image/png": "[encoded data removed]"
    },
    "image-6.png": {
     "image/png": "[encoded data removed]"
    },
    "image-7.png": {
     "image/png": "[encoded data removed]"
    },
    "image-8.png": {
     "image/png": "[encoded data removed]"
    },
    "image-9.png": {
     "image/png": "[encoded data removed]"
    }
   },
   "cell_type": "markdown",
   "metadata": {},
   "source": [
    "**Повторим выводы из предыдущих этапов:**\n",
    "\n",
    "\n",
    "**График кумулятивной выручки** \n",
    "\n",
    "- До середины августа обе группы относительно шли вровень, затем показатель группы B резко подскочил вверх, что может свидельствовать о резком всплеске заказов или наличии аномалии.\n",
    "\n",
    "![image-6.png](attachment:image-6.png)\n",
    "\n",
    "**График среднего чека**\n",
    "\n",
    "- На графике среднего чека в начале периода группы ведут себя нестабильно. В середине августа фиксируется резкий рост среднего чека группы B. Далее кривые стабилизируются.\n",
    "\n",
    "![image-7.png](attachment:image-7.png)\n",
    "\n",
    "**График относительного изменения чека** \n",
    "\n",
    "- Показатель среднего чека группы B начинает резко расти в начале периода, затем в середине августа резко падает. В середине августа он опять начинает резко расти. В конце периода группа B показывает сильно лучшие результаты, чем группа A.\n",
    "График ведет себя нестабильно. Скорее всего, в датасете много выбросов и аномальных значений.\n",
    "\n",
    "![image-8.png](attachment:image-8.png)\n",
    "\n",
    "**График числа заказов на посетителя по группам**\n",
    "\n",
    "- На протяжении всего периода график сильно скачет. В конце периода конверсия группы B превосходит показатели группы A.\n",
    "\n",
    "![image-9.png](attachment:image-9.png)\n",
    "\n",
    "**График относительного изменения числа заказов на посетителя**\n",
    "\n",
    "- Конверсия группы B показывает результат лучше группы A, однако график нестабилен.\n",
    "![image-10.png](attachment:image-10.png)\n",
    "\n",
    "\n",
    "**Тест числа заказов по грязным данным**\n",
    "\n",
    "- P-value равняется 0.017, что ниже порога статистической значимости в 0.05. Нулевую гипотезу о том, что статистически значимых различий в среднем числе заказов между группами нет, отвергаем. Относительный прирост группы B составил почти 14%.\n",
    "\n",
    "\n",
    "**Тест числа заказов по чистым данным**\n",
    "- По результатам теста по очищенным данным мы видим наличие статистически значимой разницы между двумя группами. P-value ниже 0,05 - нулевую гипотезу о равенстве двух групп отвергаем.\n",
    "По приросту числа заказов группа B показывает лучшие результаты - относительно группы A она приросла на 17%\n",
    "\n",
    "\n",
    "\n",
    "**Тест среднего чека по грязным данным**\n",
    "\n",
    "- Тест не выявил статистически значимых различий по средним чекам двух групп. При этом относительный выигрыш группы B равен почти 25%.\n",
    "\n",
    "\n",
    "**Тест среднего чека по чистым данным**\n",
    "\n",
    "- Тест по чистым данным не выявил статистической разницы различий по среднему чеку между группой A и группой B. При этом относительный проигрыш среднего чека группы B составил 2%.\n",
    "\n"
   ]
  },
  {
   "cell_type": "markdown",
   "metadata": {},
   "source": [
    "**Выводы из A\\B теста**:\n",
    "\n",
    "- Тест зафиксировал рост числа заказов на посетителя у группы B относительно группы A по чистым данным. При этом у групп есть необходимая статистическая разница. Относительный прирост группы B составил 17%. Признаем результат теста успешным.\n",
    "\n",
    "\n",
    "- Анализируя средней чек, мы не выявили значимых статистических различий ни по грязным данным, ни по чистым данным. Чтобы получить релевантный результат по этим метрикам, нужно собрать больше данных, тест необходимо продолжить."
   ]
  },
  {
   "cell_type": "code",
   "execution_count": null,
   "metadata": {},
   "outputs": [],
   "source": []
  }
 ],
 "metadata": {
  "ExecuteTimeLog": [
   {
    "duration": 802,
    "start_time": "2023-01-26T13:22:15.087Z"
   },
   {
    "duration": 80,
    "start_time": "2023-01-26T13:57:37.173Z"
   },
   {
    "duration": 12,
    "start_time": "2023-01-26T13:57:42.754Z"
   },
   {
    "duration": 7,
    "start_time": "2023-01-26T13:58:09.907Z"
   },
   {
    "duration": 101,
    "start_time": "2023-01-26T14:11:59.239Z"
   },
   {
    "duration": 111,
    "start_time": "2023-01-26T14:12:21.006Z"
   },
   {
    "duration": 11,
    "start_time": "2023-01-26T14:12:31.071Z"
   },
   {
    "duration": 9,
    "start_time": "2023-01-26T14:12:37.126Z"
   },
   {
    "duration": 73,
    "start_time": "2023-01-26T14:17:23.744Z"
   },
   {
    "duration": 9,
    "start_time": "2023-01-26T14:17:24.568Z"
   },
   {
    "duration": 9,
    "start_time": "2023-01-26T14:17:24.743Z"
   },
   {
    "duration": 9,
    "start_time": "2023-01-26T14:17:31.407Z"
   },
   {
    "duration": 750,
    "start_time": "2023-01-26T16:58:53.280Z"
   },
   {
    "duration": 90,
    "start_time": "2023-01-26T16:58:54.032Z"
   },
   {
    "duration": 12,
    "start_time": "2023-01-26T16:58:54.123Z"
   },
   {
    "duration": 138,
    "start_time": "2023-01-26T16:58:54.138Z"
   },
   {
    "duration": 7,
    "start_time": "2023-01-26T16:58:54.278Z"
   },
   {
    "duration": 10,
    "start_time": "2023-01-26T16:58:54.287Z"
   },
   {
    "duration": 7,
    "start_time": "2023-01-26T17:01:49.369Z"
   },
   {
    "duration": 13,
    "start_time": "2023-01-26T17:01:59.882Z"
   },
   {
    "duration": 74,
    "start_time": "2023-01-26T17:02:20.126Z"
   },
   {
    "duration": 6,
    "start_time": "2023-01-26T17:02:24.221Z"
   },
   {
    "duration": 9,
    "start_time": "2023-01-26T17:02:34.833Z"
   },
   {
    "duration": 6,
    "start_time": "2023-01-26T17:02:40.155Z"
   },
   {
    "duration": 6,
    "start_time": "2023-01-26T17:02:58.412Z"
   },
   {
    "duration": 7,
    "start_time": "2023-01-26T17:03:13.771Z"
   },
   {
    "duration": 7,
    "start_time": "2023-01-26T17:03:27.855Z"
   },
   {
    "duration": 1613,
    "start_time": "2023-01-26T17:04:16.790Z"
   },
   {
    "duration": 7,
    "start_time": "2023-01-26T17:04:29.959Z"
   },
   {
    "duration": 8,
    "start_time": "2023-01-26T17:07:34.392Z"
   },
   {
    "duration": 9,
    "start_time": "2023-01-26T17:07:39.185Z"
   },
   {
    "duration": 8,
    "start_time": "2023-01-26T17:07:47.481Z"
   },
   {
    "duration": 10,
    "start_time": "2023-01-26T17:07:50.243Z"
   },
   {
    "duration": 9,
    "start_time": "2023-01-26T17:07:53.601Z"
   },
   {
    "duration": 7,
    "start_time": "2023-01-26T17:07:59.132Z"
   },
   {
    "duration": 11,
    "start_time": "2023-01-26T17:12:52.612Z"
   },
   {
    "duration": 11,
    "start_time": "2023-01-26T17:12:52.846Z"
   },
   {
    "duration": 13,
    "start_time": "2023-01-26T17:13:44.211Z"
   },
   {
    "duration": 12,
    "start_time": "2023-01-26T17:13:46.650Z"
   },
   {
    "duration": 12,
    "start_time": "2023-01-26T17:14:03.991Z"
   },
   {
    "duration": 7,
    "start_time": "2023-01-26T17:14:21.292Z"
   },
   {
    "duration": 89,
    "start_time": "2023-01-26T17:14:33.513Z"
   },
   {
    "duration": 12,
    "start_time": "2023-01-26T17:14:42.049Z"
   },
   {
    "duration": 4,
    "start_time": "2023-01-26T17:15:35.495Z"
   },
   {
    "duration": 6,
    "start_time": "2023-01-26T17:16:26.640Z"
   },
   {
    "duration": 13,
    "start_time": "2023-01-26T17:16:31.072Z"
   },
   {
    "duration": 10,
    "start_time": "2023-01-26T17:16:33.607Z"
   },
   {
    "duration": 6,
    "start_time": "2023-01-26T17:16:37.779Z"
   },
   {
    "duration": 7,
    "start_time": "2023-01-26T17:16:45.351Z"
   },
   {
    "duration": 5,
    "start_time": "2023-01-26T17:16:53.574Z"
   },
   {
    "duration": 5,
    "start_time": "2023-01-26T17:17:14.408Z"
   },
   {
    "duration": 7,
    "start_time": "2023-01-26T17:20:48.296Z"
   },
   {
    "duration": 12,
    "start_time": "2023-01-26T17:20:53.511Z"
   },
   {
    "duration": 23,
    "start_time": "2023-01-26T17:21:27.340Z"
   },
   {
    "duration": 22,
    "start_time": "2023-01-26T17:21:56.983Z"
   },
   {
    "duration": 16,
    "start_time": "2023-01-26T17:22:02.655Z"
   },
   {
    "duration": 3,
    "start_time": "2023-01-26T17:23:48.598Z"
   },
   {
    "duration": 16,
    "start_time": "2023-01-26T17:24:31.777Z"
   },
   {
    "duration": 5,
    "start_time": "2023-01-26T17:25:35.016Z"
   },
   {
    "duration": 7,
    "start_time": "2023-01-26T17:25:52.264Z"
   },
   {
    "duration": 93,
    "start_time": "2023-01-26T17:27:24.216Z"
   },
   {
    "duration": 88,
    "start_time": "2023-01-26T17:27:38.011Z"
   },
   {
    "duration": 64,
    "start_time": "2023-01-26T17:27:52.698Z"
   },
   {
    "duration": 56,
    "start_time": "2023-01-26T17:28:25.974Z"
   },
   {
    "duration": 7,
    "start_time": "2023-01-26T17:28:28.766Z"
   },
   {
    "duration": 57,
    "start_time": "2023-01-26T17:28:33.998Z"
   },
   {
    "duration": 16,
    "start_time": "2023-01-26T17:28:35.950Z"
   },
   {
    "duration": 7,
    "start_time": "2023-01-26T17:28:36.157Z"
   },
   {
    "duration": 72,
    "start_time": "2023-01-26T17:28:38.635Z"
   },
   {
    "duration": 638,
    "start_time": "2023-01-26T17:28:50.116Z"
   },
   {
    "duration": 24,
    "start_time": "2023-01-26T17:28:50.755Z"
   },
   {
    "duration": 12,
    "start_time": "2023-01-26T17:28:50.781Z"
   },
   {
    "duration": 7,
    "start_time": "2023-01-26T17:28:50.795Z"
   },
   {
    "duration": 11,
    "start_time": "2023-01-26T17:28:50.803Z"
   },
   {
    "duration": 15,
    "start_time": "2023-01-26T17:28:50.815Z"
   },
   {
    "duration": 53,
    "start_time": "2023-01-26T17:28:50.831Z"
   },
   {
    "duration": 17,
    "start_time": "2023-01-26T17:28:50.886Z"
   },
   {
    "duration": 11,
    "start_time": "2023-01-26T17:28:50.904Z"
   },
   {
    "duration": 90,
    "start_time": "2023-01-26T17:28:50.917Z"
   },
   {
    "duration": 0,
    "start_time": "2023-01-26T17:28:51.009Z"
   },
   {
    "duration": 13,
    "start_time": "2023-01-26T17:29:56.954Z"
   },
   {
    "duration": 11,
    "start_time": "2023-01-26T17:30:06.654Z"
   },
   {
    "duration": 152,
    "start_time": "2023-01-26T17:33:40.068Z"
   },
   {
    "duration": 249,
    "start_time": "2023-01-26T17:33:46.632Z"
   },
   {
    "duration": 182,
    "start_time": "2023-01-26T17:34:02.113Z"
   },
   {
    "duration": 125,
    "start_time": "2023-01-26T17:35:09.227Z"
   },
   {
    "duration": 124,
    "start_time": "2023-01-26T17:35:53.559Z"
   },
   {
    "duration": 69,
    "start_time": "2023-01-26T17:36:11.114Z"
   },
   {
    "duration": 93,
    "start_time": "2023-01-26T17:36:21.046Z"
   },
   {
    "duration": 162,
    "start_time": "2023-01-26T17:36:39.976Z"
   },
   {
    "duration": 183,
    "start_time": "2023-01-26T17:36:46.817Z"
   },
   {
    "duration": 17,
    "start_time": "2023-01-26T17:38:29.249Z"
   },
   {
    "duration": 5,
    "start_time": "2023-01-26T17:38:40.511Z"
   },
   {
    "duration": 16,
    "start_time": "2023-01-26T17:38:44.118Z"
   },
   {
    "duration": 175,
    "start_time": "2023-01-26T17:38:56.534Z"
   },
   {
    "duration": 3,
    "start_time": "2023-01-26T17:39:30.784Z"
   },
   {
    "duration": 11,
    "start_time": "2023-01-26T17:39:33.480Z"
   },
   {
    "duration": 155,
    "start_time": "2023-01-26T17:39:33.688Z"
   },
   {
    "duration": 110,
    "start_time": "2023-01-26T17:40:55.759Z"
   },
   {
    "duration": 115,
    "start_time": "2023-01-26T17:41:43.068Z"
   },
   {
    "duration": 148,
    "start_time": "2023-01-26T17:44:30.019Z"
   },
   {
    "duration": 9,
    "start_time": "2023-01-26T17:44:43.809Z"
   },
   {
    "duration": 172,
    "start_time": "2023-01-26T17:44:49.524Z"
   },
   {
    "duration": 125,
    "start_time": "2023-01-26T17:44:54.056Z"
   },
   {
    "duration": 97,
    "start_time": "2023-01-26T17:46:15.843Z"
   },
   {
    "duration": 9,
    "start_time": "2023-01-26T17:46:41.355Z"
   },
   {
    "duration": 22,
    "start_time": "2023-01-26T17:46:45.332Z"
   },
   {
    "duration": 12,
    "start_time": "2023-01-26T17:46:50.417Z"
   },
   {
    "duration": 16,
    "start_time": "2023-01-26T17:47:14.123Z"
   },
   {
    "duration": 16,
    "start_time": "2023-01-26T17:47:24.327Z"
   },
   {
    "duration": 15,
    "start_time": "2023-01-26T17:47:28.523Z"
   },
   {
    "duration": 13,
    "start_time": "2023-01-26T17:47:34.019Z"
   },
   {
    "duration": 14,
    "start_time": "2023-01-26T17:47:44.283Z"
   },
   {
    "duration": 14,
    "start_time": "2023-01-26T17:47:50.959Z"
   },
   {
    "duration": 14,
    "start_time": "2023-01-26T17:47:55.787Z"
   },
   {
    "duration": 11,
    "start_time": "2023-01-26T17:48:01.659Z"
   },
   {
    "duration": 13,
    "start_time": "2023-01-26T17:54:17.412Z"
   },
   {
    "duration": 13,
    "start_time": "2023-01-26T17:54:38.814Z"
   },
   {
    "duration": 13,
    "start_time": "2023-01-26T17:56:17.133Z"
   },
   {
    "duration": 11,
    "start_time": "2023-01-26T17:56:46.198Z"
   },
   {
    "duration": 124,
    "start_time": "2023-01-26T17:56:59.515Z"
   },
   {
    "duration": 209,
    "start_time": "2023-01-26T17:58:32.030Z"
   },
   {
    "duration": 199,
    "start_time": "2023-01-26T17:59:19.445Z"
   },
   {
    "duration": 9,
    "start_time": "2023-01-26T18:01:32.143Z"
   },
   {
    "duration": 157,
    "start_time": "2023-01-26T18:02:34.650Z"
   },
   {
    "duration": 172,
    "start_time": "2023-01-26T18:02:53.286Z"
   },
   {
    "duration": 178,
    "start_time": "2023-01-26T18:03:12.844Z"
   },
   {
    "duration": 153,
    "start_time": "2023-01-26T18:03:26.958Z"
   },
   {
    "duration": 186,
    "start_time": "2023-01-26T18:03:34.806Z"
   },
   {
    "duration": 200,
    "start_time": "2023-01-26T18:05:17.264Z"
   },
   {
    "duration": 181,
    "start_time": "2023-01-26T18:05:25.613Z"
   },
   {
    "duration": 427,
    "start_time": "2023-01-26T18:10:25.610Z"
   },
   {
    "duration": 4,
    "start_time": "2023-01-26T18:19:57.620Z"
   },
   {
    "duration": 149,
    "start_time": "2023-01-26T18:20:07.534Z"
   },
   {
    "duration": 116,
    "start_time": "2023-01-26T18:20:10.002Z"
   },
   {
    "duration": 13,
    "start_time": "2023-01-26T18:22:49.136Z"
   },
   {
    "duration": 5,
    "start_time": "2023-01-26T18:23:12.584Z"
   },
   {
    "duration": 19,
    "start_time": "2023-01-26T18:23:17.235Z"
   },
   {
    "duration": 12,
    "start_time": "2023-01-26T18:24:28.572Z"
   },
   {
    "duration": 17,
    "start_time": "2023-01-26T18:24:48.256Z"
   },
   {
    "duration": 159,
    "start_time": "2023-01-26T18:26:42.836Z"
   },
   {
    "duration": 174,
    "start_time": "2023-01-26T18:27:03.442Z"
   },
   {
    "duration": 75,
    "start_time": "2023-01-26T18:27:24.667Z"
   },
   {
    "duration": 180,
    "start_time": "2023-01-26T18:27:28.223Z"
   },
   {
    "duration": 169,
    "start_time": "2023-01-26T18:27:34.733Z"
   },
   {
    "duration": 184,
    "start_time": "2023-01-26T18:27:47.775Z"
   },
   {
    "duration": 296,
    "start_time": "2023-01-26T18:28:03.327Z"
   },
   {
    "duration": 206,
    "start_time": "2023-01-26T18:30:13.749Z"
   },
   {
    "duration": 11,
    "start_time": "2023-01-26T18:30:23.014Z"
   },
   {
    "duration": 1305,
    "start_time": "2023-01-26T18:32:09.851Z"
   },
   {
    "duration": 12,
    "start_time": "2023-01-26T18:32:14.275Z"
   },
   {
    "duration": 14,
    "start_time": "2023-01-26T18:32:54.947Z"
   },
   {
    "duration": 13,
    "start_time": "2023-01-26T18:33:24.851Z"
   },
   {
    "duration": 13,
    "start_time": "2023-01-26T18:33:50.144Z"
   },
   {
    "duration": 15,
    "start_time": "2023-01-26T18:35:04.224Z"
   },
   {
    "duration": 14,
    "start_time": "2023-01-26T18:35:17.578Z"
   },
   {
    "duration": 203,
    "start_time": "2023-01-26T18:36:35.334Z"
   },
   {
    "duration": 229,
    "start_time": "2023-01-26T18:36:58.850Z"
   },
   {
    "duration": 204,
    "start_time": "2023-01-26T18:39:07.931Z"
   },
   {
    "duration": 184,
    "start_time": "2023-01-26T18:39:16.332Z"
   },
   {
    "duration": 769,
    "start_time": "2023-01-27T07:19:28.283Z"
   },
   {
    "duration": 57,
    "start_time": "2023-01-27T07:19:29.054Z"
   },
   {
    "duration": 12,
    "start_time": "2023-01-27T07:19:29.113Z"
   },
   {
    "duration": 5,
    "start_time": "2023-01-27T07:19:29.127Z"
   },
   {
    "duration": 15,
    "start_time": "2023-01-27T07:19:29.133Z"
   },
   {
    "duration": 7,
    "start_time": "2023-01-27T07:19:29.149Z"
   },
   {
    "duration": 140,
    "start_time": "2023-01-27T07:19:29.158Z"
   },
   {
    "duration": 19,
    "start_time": "2023-01-27T07:19:29.300Z"
   },
   {
    "duration": 19,
    "start_time": "2023-01-27T07:19:29.321Z"
   },
   {
    "duration": 37,
    "start_time": "2023-01-27T07:19:29.343Z"
   },
   {
    "duration": 15,
    "start_time": "2023-01-27T07:19:29.382Z"
   },
   {
    "duration": 17,
    "start_time": "2023-01-27T07:19:29.400Z"
   },
   {
    "duration": 173,
    "start_time": "2023-01-27T07:19:29.419Z"
   },
   {
    "duration": 69,
    "start_time": "2023-01-27T07:19:29.594Z"
   },
   {
    "duration": 0,
    "start_time": "2023-01-27T07:19:29.664Z"
   },
   {
    "duration": 0,
    "start_time": "2023-01-27T07:19:29.665Z"
   },
   {
    "duration": 0,
    "start_time": "2023-01-27T07:19:29.667Z"
   },
   {
    "duration": 0,
    "start_time": "2023-01-27T07:19:29.685Z"
   },
   {
    "duration": 0,
    "start_time": "2023-01-27T07:19:29.687Z"
   },
   {
    "duration": 140,
    "start_time": "2023-01-27T07:19:47.480Z"
   },
   {
    "duration": 20,
    "start_time": "2023-01-27T07:19:48.905Z"
   },
   {
    "duration": 249,
    "start_time": "2023-01-27T07:19:49.137Z"
   },
   {
    "duration": 170,
    "start_time": "2023-01-27T07:19:49.855Z"
   },
   {
    "duration": 299,
    "start_time": "2023-01-27T07:19:50.209Z"
   },
   {
    "duration": 256,
    "start_time": "2023-01-27T07:19:50.585Z"
   },
   {
    "duration": 9,
    "start_time": "2023-01-27T07:32:59.026Z"
   },
   {
    "duration": 10,
    "start_time": "2023-01-27T08:52:51.021Z"
   },
   {
    "duration": 171,
    "start_time": "2023-01-27T08:52:51.294Z"
   },
   {
    "duration": 136,
    "start_time": "2023-01-27T08:52:51.748Z"
   },
   {
    "duration": 14,
    "start_time": "2023-01-27T08:52:52.515Z"
   },
   {
    "duration": 190,
    "start_time": "2023-01-27T08:52:53.819Z"
   },
   {
    "duration": 560,
    "start_time": "2023-01-27T11:25:38.840Z"
   },
   {
    "duration": 23,
    "start_time": "2023-01-27T11:25:39.402Z"
   },
   {
    "duration": 10,
    "start_time": "2023-01-27T11:25:39.427Z"
   },
   {
    "duration": 6,
    "start_time": "2023-01-27T11:25:39.438Z"
   },
   {
    "duration": 18,
    "start_time": "2023-01-27T11:25:39.445Z"
   },
   {
    "duration": 8,
    "start_time": "2023-01-27T11:25:39.464Z"
   },
   {
    "duration": 47,
    "start_time": "2023-01-27T11:25:39.473Z"
   },
   {
    "duration": 16,
    "start_time": "2023-01-27T11:25:39.521Z"
   },
   {
    "duration": 6,
    "start_time": "2023-01-27T11:25:39.538Z"
   },
   {
    "duration": 15,
    "start_time": "2023-01-27T11:25:39.545Z"
   },
   {
    "duration": 6,
    "start_time": "2023-01-27T11:25:39.561Z"
   },
   {
    "duration": 12,
    "start_time": "2023-01-27T11:25:39.569Z"
   },
   {
    "duration": 156,
    "start_time": "2023-01-27T11:25:39.582Z"
   },
   {
    "duration": 126,
    "start_time": "2023-01-27T11:25:39.740Z"
   },
   {
    "duration": 27,
    "start_time": "2023-01-27T11:25:39.868Z"
   },
   {
    "duration": 260,
    "start_time": "2023-01-27T11:25:39.897Z"
   },
   {
    "duration": 172,
    "start_time": "2023-01-27T11:25:40.158Z"
   },
   {
    "duration": 241,
    "start_time": "2023-01-27T11:25:40.332Z"
   },
   {
    "duration": 226,
    "start_time": "2023-01-27T11:25:40.575Z"
   },
   {
    "duration": 244,
    "start_time": "2023-01-27T12:10:40.221Z"
   },
   {
    "duration": 242,
    "start_time": "2023-01-27T12:10:52.621Z"
   },
   {
    "duration": 85,
    "start_time": "2023-01-28T09:37:30.254Z"
   },
   {
    "duration": 986,
    "start_time": "2023-01-28T09:37:34.724Z"
   },
   {
    "duration": 71,
    "start_time": "2023-01-28T09:37:35.716Z"
   },
   {
    "duration": 12,
    "start_time": "2023-01-28T09:37:35.789Z"
   },
   {
    "duration": 23,
    "start_time": "2023-01-28T09:37:35.803Z"
   },
   {
    "duration": 11,
    "start_time": "2023-01-28T09:37:35.828Z"
   },
   {
    "duration": 10,
    "start_time": "2023-01-28T09:37:35.840Z"
   },
   {
    "duration": 141,
    "start_time": "2023-01-28T09:37:35.852Z"
   },
   {
    "duration": 29,
    "start_time": "2023-01-28T09:37:35.994Z"
   },
   {
    "duration": 15,
    "start_time": "2023-01-28T09:37:36.025Z"
   },
   {
    "duration": 22,
    "start_time": "2023-01-28T09:37:36.042Z"
   },
   {
    "duration": 4,
    "start_time": "2023-01-28T09:37:36.068Z"
   },
   {
    "duration": 38,
    "start_time": "2023-01-28T09:37:36.074Z"
   },
   {
    "duration": 230,
    "start_time": "2023-01-28T09:37:36.120Z"
   },
   {
    "duration": 156,
    "start_time": "2023-01-28T09:37:36.353Z"
   },
   {
    "duration": 19,
    "start_time": "2023-01-28T09:37:36.511Z"
   },
   {
    "duration": 415,
    "start_time": "2023-01-28T09:37:36.534Z"
   },
   {
    "duration": 248,
    "start_time": "2023-01-28T09:37:36.951Z"
   },
   {
    "duration": 385,
    "start_time": "2023-01-28T09:37:37.205Z"
   },
   {
    "duration": 288,
    "start_time": "2023-01-28T09:37:37.592Z"
   },
   {
    "duration": 14,
    "start_time": "2023-01-28T09:39:15.470Z"
   },
   {
    "duration": 10,
    "start_time": "2023-01-28T09:39:21.863Z"
   },
   {
    "duration": 23,
    "start_time": "2023-01-28T09:52:45.840Z"
   },
   {
    "duration": 24,
    "start_time": "2023-01-28T09:53:14.835Z"
   },
   {
    "duration": 18,
    "start_time": "2023-01-28T09:53:36.818Z"
   },
   {
    "duration": 15,
    "start_time": "2023-01-28T09:53:54.325Z"
   },
   {
    "duration": 23,
    "start_time": "2023-01-28T09:54:03.935Z"
   },
   {
    "duration": 75,
    "start_time": "2023-01-28T09:54:48.726Z"
   },
   {
    "duration": 8,
    "start_time": "2023-01-28T09:55:12.280Z"
   },
   {
    "duration": 32,
    "start_time": "2023-01-28T09:55:21.266Z"
   },
   {
    "duration": 19,
    "start_time": "2023-01-28T09:58:14.160Z"
   },
   {
    "duration": 194,
    "start_time": "2023-01-28T09:58:18.495Z"
   },
   {
    "duration": 298,
    "start_time": "2023-01-28T09:59:17.664Z"
   },
   {
    "duration": 3,
    "start_time": "2023-01-28T10:00:30.443Z"
   },
   {
    "duration": 11,
    "start_time": "2023-01-28T10:04:37.373Z"
   },
   {
    "duration": 202,
    "start_time": "2023-01-28T10:04:42.330Z"
   },
   {
    "duration": 28,
    "start_time": "2023-01-28T10:09:07.290Z"
   },
   {
    "duration": 8,
    "start_time": "2023-01-28T10:15:10.695Z"
   },
   {
    "duration": 7,
    "start_time": "2023-01-28T10:15:23.150Z"
   },
   {
    "duration": 11,
    "start_time": "2023-01-28T10:15:28.803Z"
   },
   {
    "duration": 11,
    "start_time": "2023-01-28T10:15:40.493Z"
   },
   {
    "duration": 10,
    "start_time": "2023-01-28T10:15:58.942Z"
   },
   {
    "duration": 10,
    "start_time": "2023-01-28T10:16:39.877Z"
   },
   {
    "duration": 117,
    "start_time": "2023-01-28T10:17:36.171Z"
   },
   {
    "duration": 41,
    "start_time": "2023-01-28T10:18:12.536Z"
   },
   {
    "duration": 11,
    "start_time": "2023-01-28T10:18:16.144Z"
   },
   {
    "duration": 121,
    "start_time": "2023-01-28T10:18:19.156Z"
   },
   {
    "duration": 16,
    "start_time": "2023-01-28T10:18:54.571Z"
   },
   {
    "duration": 7,
    "start_time": "2023-01-28T10:19:11.421Z"
   },
   {
    "duration": 742,
    "start_time": "2023-01-28T10:19:12.774Z"
   },
   {
    "duration": 126,
    "start_time": "2023-01-28T10:19:24.562Z"
   },
   {
    "duration": 732,
    "start_time": "2023-01-28T10:19:29.686Z"
   },
   {
    "duration": 7,
    "start_time": "2023-01-28T10:19:41.506Z"
   },
   {
    "duration": 116,
    "start_time": "2023-01-28T10:19:41.673Z"
   },
   {
    "duration": 147,
    "start_time": "2023-01-28T10:21:56.788Z"
   },
   {
    "duration": 117,
    "start_time": "2023-01-28T10:24:03.561Z"
   },
   {
    "duration": 119,
    "start_time": "2023-01-28T10:24:22.550Z"
   },
   {
    "duration": 233,
    "start_time": "2023-01-28T10:24:30.617Z"
   },
   {
    "duration": 144,
    "start_time": "2023-01-28T10:24:34.385Z"
   },
   {
    "duration": 6,
    "start_time": "2023-01-28T10:29:21.365Z"
   },
   {
    "duration": 7,
    "start_time": "2023-01-28T10:29:31.898Z"
   },
   {
    "duration": 3,
    "start_time": "2023-01-28T10:33:30.413Z"
   },
   {
    "duration": 133,
    "start_time": "2023-01-28T10:46:49.450Z"
   },
   {
    "duration": 10,
    "start_time": "2023-01-28T10:47:37.686Z"
   },
   {
    "duration": 6,
    "start_time": "2023-01-28T10:47:59.665Z"
   },
   {
    "duration": 6,
    "start_time": "2023-01-28T10:48:29.126Z"
   },
   {
    "duration": 5,
    "start_time": "2023-01-28T10:48:55.197Z"
   },
   {
    "duration": 6,
    "start_time": "2023-01-28T10:50:03.119Z"
   },
   {
    "duration": 134,
    "start_time": "2023-01-28T10:52:01.248Z"
   },
   {
    "duration": 160,
    "start_time": "2023-01-28T10:52:08.697Z"
   },
   {
    "duration": 129,
    "start_time": "2023-01-28T10:52:21.234Z"
   },
   {
    "duration": 6,
    "start_time": "2023-01-28T11:01:59.042Z"
   },
   {
    "duration": 8,
    "start_time": "2023-01-28T11:18:41.642Z"
   },
   {
    "duration": 11,
    "start_time": "2023-01-28T11:18:54.232Z"
   },
   {
    "duration": 10,
    "start_time": "2023-01-28T11:19:26.124Z"
   },
   {
    "duration": 14,
    "start_time": "2023-01-28T11:20:12.632Z"
   },
   {
    "duration": 11,
    "start_time": "2023-01-28T11:20:17.531Z"
   },
   {
    "duration": 119,
    "start_time": "2023-01-28T11:20:33.452Z"
   },
   {
    "duration": 49,
    "start_time": "2023-01-28T11:23:08.746Z"
   },
   {
    "duration": 45,
    "start_time": "2023-01-28T11:23:16.527Z"
   },
   {
    "duration": 58,
    "start_time": "2023-01-28T11:23:23.992Z"
   },
   {
    "duration": 44,
    "start_time": "2023-01-28T11:23:53.195Z"
   },
   {
    "duration": 16,
    "start_time": "2023-01-28T11:24:04.160Z"
   },
   {
    "duration": 11,
    "start_time": "2023-01-28T11:24:41.120Z"
   },
   {
    "duration": 204,
    "start_time": "2023-01-28T11:28:27.820Z"
   },
   {
    "duration": 16,
    "start_time": "2023-01-28T11:29:31.016Z"
   },
   {
    "duration": 660,
    "start_time": "2023-01-28T11:29:55.777Z"
   },
   {
    "duration": 14,
    "start_time": "2023-01-28T11:32:54.289Z"
   },
   {
    "duration": 13,
    "start_time": "2023-01-28T11:33:50.024Z"
   },
   {
    "duration": 13,
    "start_time": "2023-01-28T11:34:02.884Z"
   },
   {
    "duration": 20,
    "start_time": "2023-01-28T11:34:07.091Z"
   },
   {
    "duration": 681,
    "start_time": "2023-01-28T11:39:35.929Z"
   },
   {
    "duration": 21,
    "start_time": "2023-01-28T11:40:04.984Z"
   },
   {
    "duration": 11,
    "start_time": "2023-01-28T11:40:20.335Z"
   },
   {
    "duration": 10,
    "start_time": "2023-01-28T11:41:17.955Z"
   },
   {
    "duration": 7,
    "start_time": "2023-01-28T11:41:57.173Z"
   },
   {
    "duration": 22,
    "start_time": "2023-01-28T11:42:14.077Z"
   },
   {
    "duration": 10,
    "start_time": "2023-01-28T11:42:35.158Z"
   },
   {
    "duration": 10,
    "start_time": "2023-01-28T11:43:11.510Z"
   },
   {
    "duration": 10,
    "start_time": "2023-01-28T11:43:21.915Z"
   },
   {
    "duration": 10,
    "start_time": "2023-01-28T11:43:35.029Z"
   },
   {
    "duration": 9,
    "start_time": "2023-01-28T11:43:41.433Z"
   },
   {
    "duration": 8,
    "start_time": "2023-01-28T11:43:50.621Z"
   },
   {
    "duration": 13,
    "start_time": "2023-01-28T11:44:00.120Z"
   },
   {
    "duration": 10,
    "start_time": "2023-01-28T11:44:03.457Z"
   },
   {
    "duration": 10,
    "start_time": "2023-01-28T11:44:19.381Z"
   },
   {
    "duration": 18,
    "start_time": "2023-01-28T11:46:04.476Z"
   },
   {
    "duration": 9,
    "start_time": "2023-01-28T11:46:58.736Z"
   },
   {
    "duration": 16,
    "start_time": "2023-01-28T11:47:39.709Z"
   },
   {
    "duration": 18,
    "start_time": "2023-01-28T11:47:48.222Z"
   },
   {
    "duration": 16,
    "start_time": "2023-01-28T11:48:03.778Z"
   },
   {
    "duration": 17,
    "start_time": "2023-01-28T11:48:10.578Z"
   },
   {
    "duration": 18,
    "start_time": "2023-01-28T11:48:44.918Z"
   },
   {
    "duration": 24,
    "start_time": "2023-01-28T11:49:06.687Z"
   },
   {
    "duration": 58,
    "start_time": "2023-01-28T11:49:24.073Z"
   },
   {
    "duration": 21,
    "start_time": "2023-01-28T11:49:33.976Z"
   },
   {
    "duration": 18,
    "start_time": "2023-01-28T11:49:43.677Z"
   },
   {
    "duration": 17,
    "start_time": "2023-01-28T11:49:55.289Z"
   },
   {
    "duration": 18,
    "start_time": "2023-01-28T11:50:21.133Z"
   },
   {
    "duration": 10,
    "start_time": "2023-01-28T11:50:46.197Z"
   },
   {
    "duration": 15,
    "start_time": "2023-01-28T11:50:55.009Z"
   },
   {
    "duration": 9,
    "start_time": "2023-01-28T11:51:01.116Z"
   },
   {
    "duration": 7,
    "start_time": "2023-01-28T11:53:16.331Z"
   },
   {
    "duration": 6,
    "start_time": "2023-01-28T11:53:30.015Z"
   },
   {
    "duration": 7,
    "start_time": "2023-01-28T11:53:55.558Z"
   },
   {
    "duration": 6,
    "start_time": "2023-01-28T11:54:18.439Z"
   },
   {
    "duration": 7,
    "start_time": "2023-01-28T11:54:45.138Z"
   },
   {
    "duration": 12,
    "start_time": "2023-01-28T11:58:35.892Z"
   },
   {
    "duration": 656,
    "start_time": "2023-01-28T11:58:59.396Z"
   },
   {
    "duration": 30,
    "start_time": "2023-01-28T11:59:04.252Z"
   },
   {
    "duration": 24,
    "start_time": "2023-01-28T12:01:11.017Z"
   },
   {
    "duration": 25,
    "start_time": "2023-01-28T12:01:31.633Z"
   },
   {
    "duration": 26,
    "start_time": "2023-01-28T12:01:38.596Z"
   },
   {
    "duration": 196,
    "start_time": "2023-01-28T12:02:34.343Z"
   },
   {
    "duration": 203,
    "start_time": "2023-01-28T12:03:02.300Z"
   },
   {
    "duration": 201,
    "start_time": "2023-01-28T12:03:12.917Z"
   },
   {
    "duration": 12,
    "start_time": "2023-01-28T12:06:50.715Z"
   },
   {
    "duration": 15,
    "start_time": "2023-01-28T12:07:04.142Z"
   },
   {
    "duration": 9,
    "start_time": "2023-01-28T12:08:49.157Z"
   },
   {
    "duration": 7,
    "start_time": "2023-01-28T12:08:58.537Z"
   },
   {
    "duration": 6,
    "start_time": "2023-01-28T12:09:03.218Z"
   },
   {
    "duration": 8,
    "start_time": "2023-01-28T13:28:12.665Z"
   },
   {
    "duration": 13,
    "start_time": "2023-01-28T13:28:23.920Z"
   },
   {
    "duration": 380,
    "start_time": "2023-01-28T13:28:24.396Z"
   },
   {
    "duration": 0,
    "start_time": "2023-01-28T13:28:24.778Z"
   },
   {
    "duration": 8,
    "start_time": "2023-01-28T13:28:24.959Z"
   },
   {
    "duration": 8,
    "start_time": "2023-01-28T13:28:29.279Z"
   },
   {
    "duration": 11,
    "start_time": "2023-01-28T13:28:32.860Z"
   },
   {
    "duration": 14,
    "start_time": "2023-01-28T13:28:49.700Z"
   },
   {
    "duration": 12,
    "start_time": "2023-01-28T13:28:52.952Z"
   },
   {
    "duration": 14,
    "start_time": "2023-01-28T13:29:01.073Z"
   },
   {
    "duration": 15,
    "start_time": "2023-01-28T13:29:05.058Z"
   },
   {
    "duration": 6,
    "start_time": "2023-01-28T13:29:19.478Z"
   },
   {
    "duration": 311,
    "start_time": "2023-01-28T13:29:31.083Z"
   },
   {
    "duration": 4,
    "start_time": "2023-01-28T13:29:40.883Z"
   },
   {
    "duration": 6,
    "start_time": "2023-01-28T13:29:41.659Z"
   },
   {
    "duration": 23,
    "start_time": "2023-01-28T13:29:43.032Z"
   },
   {
    "duration": 1401,
    "start_time": "2023-01-28T13:29:52.937Z"
   },
   {
    "duration": 137,
    "start_time": "2023-01-28T13:29:54.340Z"
   },
   {
    "duration": 17,
    "start_time": "2023-01-28T13:29:54.478Z"
   },
   {
    "duration": 83,
    "start_time": "2023-01-28T13:29:54.497Z"
   },
   {
    "duration": 22,
    "start_time": "2023-01-28T13:29:54.584Z"
   },
   {
    "duration": 69,
    "start_time": "2023-01-28T13:29:54.615Z"
   },
   {
    "duration": 101,
    "start_time": "2023-01-28T13:29:54.686Z"
   },
   {
    "duration": 52,
    "start_time": "2023-01-28T13:29:54.790Z"
   },
   {
    "duration": 52,
    "start_time": "2023-01-28T13:29:54.843Z"
   },
   {
    "duration": 74,
    "start_time": "2023-01-28T13:29:54.898Z"
   },
   {
    "duration": 23,
    "start_time": "2023-01-28T13:29:54.977Z"
   },
   {
    "duration": 78,
    "start_time": "2023-01-28T13:29:55.006Z"
   },
   {
    "duration": 26,
    "start_time": "2023-01-28T13:29:55.087Z"
   },
   {
    "duration": 307,
    "start_time": "2023-01-28T13:29:55.116Z"
   },
   {
    "duration": 158,
    "start_time": "2023-01-28T13:29:55.425Z"
   },
   {
    "duration": 24,
    "start_time": "2023-01-28T13:29:55.588Z"
   },
   {
    "duration": 455,
    "start_time": "2023-01-28T13:29:55.614Z"
   },
   {
    "duration": 225,
    "start_time": "2023-01-28T13:29:56.072Z"
   },
   {
    "duration": 332,
    "start_time": "2023-01-28T13:29:56.299Z"
   },
   {
    "duration": 15,
    "start_time": "2023-01-28T13:29:56.637Z"
   },
   {
    "duration": 319,
    "start_time": "2023-01-28T13:29:56.658Z"
   },
   {
    "duration": 407,
    "start_time": "2023-01-28T13:29:56.984Z"
   },
   {
    "duration": 170,
    "start_time": "2023-01-28T13:29:57.393Z"
   },
   {
    "duration": 5,
    "start_time": "2023-01-28T13:29:57.568Z"
   },
   {
    "duration": 11,
    "start_time": "2023-01-28T13:29:57.575Z"
   },
   {
    "duration": 180,
    "start_time": "2023-01-28T13:29:57.588Z"
   },
   {
    "duration": 7,
    "start_time": "2023-01-28T13:29:57.770Z"
   },
   {
    "duration": 43,
    "start_time": "2023-01-28T13:29:57.780Z"
   },
   {
    "duration": 53,
    "start_time": "2023-01-28T13:29:57.824Z"
   },
   {
    "duration": 41,
    "start_time": "2023-01-28T13:29:57.879Z"
   },
   {
    "duration": 24,
    "start_time": "2023-01-28T13:29:57.922Z"
   },
   {
    "duration": 128,
    "start_time": "2023-01-28T13:30:30.003Z"
   },
   {
    "duration": 21,
    "start_time": "2023-01-28T13:30:45.834Z"
   },
   {
    "duration": 10,
    "start_time": "2023-01-28T13:30:58.271Z"
   },
   {
    "duration": 3,
    "start_time": "2023-01-28T13:31:35.144Z"
   },
   {
    "duration": 13,
    "start_time": "2023-01-28T13:31:37.982Z"
   },
   {
    "duration": 46,
    "start_time": "2023-01-29T10:14:58.227Z"
   },
   {
    "duration": 1130,
    "start_time": "2023-01-29T10:15:02.884Z"
   },
   {
    "duration": 134,
    "start_time": "2023-01-29T10:15:04.016Z"
   },
   {
    "duration": 11,
    "start_time": "2023-01-29T10:15:04.152Z"
   },
   {
    "duration": 21,
    "start_time": "2023-01-29T10:15:04.165Z"
   },
   {
    "duration": 39,
    "start_time": "2023-01-29T10:15:04.187Z"
   },
   {
    "duration": 15,
    "start_time": "2023-01-29T10:15:04.228Z"
   },
   {
    "duration": 186,
    "start_time": "2023-01-29T10:15:04.244Z"
   },
   {
    "duration": 22,
    "start_time": "2023-01-29T10:15:04.431Z"
   },
   {
    "duration": 27,
    "start_time": "2023-01-29T10:15:04.455Z"
   },
   {
    "duration": 53,
    "start_time": "2023-01-29T10:15:04.484Z"
   },
   {
    "duration": 34,
    "start_time": "2023-01-29T10:15:04.539Z"
   },
   {
    "duration": 55,
    "start_time": "2023-01-29T10:15:04.575Z"
   },
   {
    "duration": 217,
    "start_time": "2023-01-29T10:15:04.632Z"
   },
   {
    "duration": 129,
    "start_time": "2023-01-29T10:15:04.850Z"
   },
   {
    "duration": 15,
    "start_time": "2023-01-29T10:15:04.981Z"
   },
   {
    "duration": 318,
    "start_time": "2023-01-29T10:15:04.998Z"
   },
   {
    "duration": 209,
    "start_time": "2023-01-29T10:15:05.318Z"
   },
   {
    "duration": 327,
    "start_time": "2023-01-29T10:15:05.528Z"
   },
   {
    "duration": 9,
    "start_time": "2023-01-29T10:15:05.856Z"
   },
   {
    "duration": 213,
    "start_time": "2023-01-29T10:15:05.867Z"
   },
   {
    "duration": 279,
    "start_time": "2023-01-29T10:15:06.082Z"
   },
   {
    "duration": 129,
    "start_time": "2023-01-29T10:15:06.363Z"
   },
   {
    "duration": 5,
    "start_time": "2023-01-29T10:15:06.494Z"
   },
   {
    "duration": 23,
    "start_time": "2023-01-29T10:15:06.501Z"
   },
   {
    "duration": 147,
    "start_time": "2023-01-29T10:15:06.525Z"
   },
   {
    "duration": 5,
    "start_time": "2023-01-29T10:15:06.674Z"
   },
   {
    "duration": 21,
    "start_time": "2023-01-29T10:15:06.680Z"
   },
   {
    "duration": 38,
    "start_time": "2023-01-29T10:15:06.704Z"
   },
   {
    "duration": 5,
    "start_time": "2023-01-29T10:15:06.744Z"
   },
   {
    "duration": 20,
    "start_time": "2023-01-29T10:15:06.751Z"
   },
   {
    "duration": 8,
    "start_time": "2023-01-29T10:15:06.772Z"
   },
   {
    "duration": 5,
    "start_time": "2023-01-29T10:15:15.775Z"
   },
   {
    "duration": 5,
    "start_time": "2023-01-29T10:15:22.830Z"
   },
   {
    "duration": 4,
    "start_time": "2023-01-29T10:15:26.520Z"
   },
   {
    "duration": 4,
    "start_time": "2023-01-29T10:15:34.867Z"
   },
   {
    "duration": 4,
    "start_time": "2023-01-29T10:15:42.122Z"
   },
   {
    "duration": 5,
    "start_time": "2023-01-29T10:15:52.551Z"
   },
   {
    "duration": 5,
    "start_time": "2023-01-29T10:16:03.249Z"
   },
   {
    "duration": 5,
    "start_time": "2023-01-29T10:16:11.127Z"
   },
   {
    "duration": 5,
    "start_time": "2023-01-29T10:16:16.970Z"
   },
   {
    "duration": 5,
    "start_time": "2023-01-29T10:16:17.450Z"
   },
   {
    "duration": 5,
    "start_time": "2023-01-29T10:16:23.222Z"
   },
   {
    "duration": 5,
    "start_time": "2023-01-29T10:16:28.051Z"
   },
   {
    "duration": 1220,
    "start_time": "2023-01-29T10:16:37.833Z"
   },
   {
    "duration": 7,
    "start_time": "2023-01-29T10:17:03.331Z"
   },
   {
    "duration": 7,
    "start_time": "2023-01-29T10:17:11.777Z"
   },
   {
    "duration": 8,
    "start_time": "2023-01-29T10:17:17.870Z"
   },
   {
    "duration": 7,
    "start_time": "2023-01-29T10:17:21.349Z"
   },
   {
    "duration": 6,
    "start_time": "2023-01-29T10:17:23.860Z"
   },
   {
    "duration": 7,
    "start_time": "2023-01-29T10:17:24.108Z"
   },
   {
    "duration": 9,
    "start_time": "2023-01-29T10:25:22.871Z"
   },
   {
    "duration": 10,
    "start_time": "2023-01-29T10:25:47.158Z"
   },
   {
    "duration": 10,
    "start_time": "2023-01-29T10:27:27.972Z"
   },
   {
    "duration": 11,
    "start_time": "2023-01-29T10:27:46.265Z"
   },
   {
    "duration": 12,
    "start_time": "2023-01-29T10:28:53.746Z"
   },
   {
    "duration": 11,
    "start_time": "2023-01-29T10:29:55.978Z"
   },
   {
    "duration": 9,
    "start_time": "2023-01-29T10:30:05.280Z"
   },
   {
    "duration": 10,
    "start_time": "2023-01-29T10:30:41.246Z"
   },
   {
    "duration": 10,
    "start_time": "2023-01-29T10:31:19.272Z"
   },
   {
    "duration": 31,
    "start_time": "2023-01-29T10:37:51.477Z"
   },
   {
    "duration": 41,
    "start_time": "2023-01-29T10:38:44.542Z"
   },
   {
    "duration": 30,
    "start_time": "2023-01-29T10:38:52.631Z"
   },
   {
    "duration": 39,
    "start_time": "2023-01-29T10:53:28.140Z"
   },
   {
    "duration": 30,
    "start_time": "2023-01-29T10:53:52.956Z"
   },
   {
    "duration": 31,
    "start_time": "2023-01-29T10:54:03.425Z"
   },
   {
    "duration": 32,
    "start_time": "2023-01-29T10:56:21.371Z"
   },
   {
    "duration": 16,
    "start_time": "2023-01-29T11:00:52.988Z"
   },
   {
    "duration": 10,
    "start_time": "2023-01-29T11:01:20.677Z"
   },
   {
    "duration": 10,
    "start_time": "2023-01-29T11:01:25.468Z"
   },
   {
    "duration": 103,
    "start_time": "2023-01-29T11:01:41.872Z"
   },
   {
    "duration": 389,
    "start_time": "2023-01-29T11:01:46.018Z"
   },
   {
    "duration": 36,
    "start_time": "2023-01-29T11:02:36.988Z"
   },
   {
    "duration": 46,
    "start_time": "2023-01-29T11:02:46.065Z"
   },
   {
    "duration": 35,
    "start_time": "2023-01-29T11:02:58.336Z"
   },
   {
    "duration": 17,
    "start_time": "2023-01-29T11:03:10.721Z"
   },
   {
    "duration": 17,
    "start_time": "2023-01-29T11:09:33.168Z"
   },
   {
    "duration": 28,
    "start_time": "2023-01-29T11:09:33.948Z"
   },
   {
    "duration": 12,
    "start_time": "2023-01-29T11:09:40.863Z"
   },
   {
    "duration": 10,
    "start_time": "2023-01-29T11:09:45.303Z"
   },
   {
    "duration": 29,
    "start_time": "2023-01-29T11:09:48.800Z"
   },
   {
    "duration": 17,
    "start_time": "2023-01-29T11:09:50.681Z"
   },
   {
    "duration": 82,
    "start_time": "2023-01-29T11:12:06.547Z"
   },
   {
    "duration": 94,
    "start_time": "2023-01-29T11:16:51.523Z"
   },
   {
    "duration": 68,
    "start_time": "2023-01-29T11:17:10.887Z"
   },
   {
    "duration": 71,
    "start_time": "2023-01-29T11:18:26.779Z"
   },
   {
    "duration": 133,
    "start_time": "2023-01-29T11:18:54.179Z"
   },
   {
    "duration": 76,
    "start_time": "2023-01-29T11:19:36.190Z"
   },
   {
    "duration": 6,
    "start_time": "2023-01-29T11:19:47.337Z"
   },
   {
    "duration": 12,
    "start_time": "2023-01-29T11:25:44.859Z"
   },
   {
    "duration": 6,
    "start_time": "2023-01-29T11:29:11.233Z"
   },
   {
    "duration": 14,
    "start_time": "2023-01-29T11:29:39.036Z"
   },
   {
    "duration": 17,
    "start_time": "2023-01-29T11:30:21.680Z"
   },
   {
    "duration": 16,
    "start_time": "2023-01-29T11:31:00.968Z"
   },
   {
    "duration": 11,
    "start_time": "2023-01-29T11:31:49.926Z"
   },
   {
    "duration": 15,
    "start_time": "2023-01-29T11:32:38.632Z"
   },
   {
    "duration": 16,
    "start_time": "2023-01-29T11:36:34.531Z"
   },
   {
    "duration": 17,
    "start_time": "2023-01-29T11:43:26.365Z"
   },
   {
    "duration": 22,
    "start_time": "2023-01-29T11:43:31.917Z"
   },
   {
    "duration": 171,
    "start_time": "2023-01-29T11:44:02.631Z"
   },
   {
    "duration": 21,
    "start_time": "2023-01-29T11:44:07.476Z"
   },
   {
    "duration": 173,
    "start_time": "2023-01-29T11:45:18.860Z"
   },
   {
    "duration": 169,
    "start_time": "2023-01-29T11:45:31.056Z"
   },
   {
    "duration": 67,
    "start_time": "2023-01-29T11:45:48.291Z"
   },
   {
    "duration": 22,
    "start_time": "2023-01-29T11:46:10.899Z"
   },
   {
    "duration": 162,
    "start_time": "2023-01-29T12:03:41.181Z"
   },
   {
    "duration": 147,
    "start_time": "2023-01-29T12:04:15.041Z"
   },
   {
    "duration": 16,
    "start_time": "2023-01-29T12:04:15.315Z"
   },
   {
    "duration": 213,
    "start_time": "2023-01-29T12:04:15.915Z"
   },
   {
    "duration": 273,
    "start_time": "2023-01-29T12:04:19.282Z"
   },
   {
    "duration": 337,
    "start_time": "2023-01-29T12:04:20.606Z"
   },
   {
    "duration": 6,
    "start_time": "2023-01-29T12:06:00.276Z"
   },
   {
    "duration": 210,
    "start_time": "2023-01-29T12:06:10.516Z"
   },
   {
    "duration": 22,
    "start_time": "2023-01-29T12:07:17.659Z"
   },
   {
    "duration": 206,
    "start_time": "2023-01-29T12:07:33.475Z"
   },
   {
    "duration": 5,
    "start_time": "2023-01-29T12:07:50.587Z"
   },
   {
    "duration": 213,
    "start_time": "2023-01-29T12:07:58.133Z"
   },
   {
    "duration": 194,
    "start_time": "2023-01-29T12:08:49.279Z"
   },
   {
    "duration": 155,
    "start_time": "2023-01-29T12:09:21.346Z"
   },
   {
    "duration": 204,
    "start_time": "2023-01-29T12:10:07.157Z"
   },
   {
    "duration": 163,
    "start_time": "2023-01-29T12:10:40.027Z"
   },
   {
    "duration": 212,
    "start_time": "2023-01-29T12:11:12.030Z"
   },
   {
    "duration": 198,
    "start_time": "2023-01-29T12:11:40.405Z"
   },
   {
    "duration": 209,
    "start_time": "2023-01-29T12:11:48.308Z"
   },
   {
    "duration": 292,
    "start_time": "2023-01-29T12:12:01.016Z"
   },
   {
    "duration": 172,
    "start_time": "2023-01-29T12:12:44.120Z"
   },
   {
    "duration": 131,
    "start_time": "2023-01-29T12:12:46.744Z"
   },
   {
    "duration": 11,
    "start_time": "2023-01-29T12:12:46.976Z"
   },
   {
    "duration": 164,
    "start_time": "2023-01-29T12:12:48.272Z"
   },
   {
    "duration": 163,
    "start_time": "2023-01-29T12:12:49.951Z"
   },
   {
    "duration": 221,
    "start_time": "2023-01-29T12:12:53.744Z"
   },
   {
    "duration": 178,
    "start_time": "2023-01-29T12:13:30.425Z"
   },
   {
    "duration": 5,
    "start_time": "2023-01-29T12:14:08.088Z"
   },
   {
    "duration": 11,
    "start_time": "2023-01-29T12:14:09.131Z"
   },
   {
    "duration": 172,
    "start_time": "2023-01-29T12:14:10.620Z"
   },
   {
    "duration": 135,
    "start_time": "2023-01-29T12:14:11.275Z"
   },
   {
    "duration": 14,
    "start_time": "2023-01-29T12:14:11.539Z"
   },
   {
    "duration": 206,
    "start_time": "2023-01-29T12:14:12.763Z"
   },
   {
    "duration": 205,
    "start_time": "2023-01-29T12:14:14.239Z"
   },
   {
    "duration": 274,
    "start_time": "2023-01-29T12:14:14.871Z"
   },
   {
    "duration": 10,
    "start_time": "2023-01-29T12:14:15.583Z"
   },
   {
    "duration": 226,
    "start_time": "2023-01-29T12:14:15.815Z"
   },
   {
    "duration": 205,
    "start_time": "2023-01-29T12:16:03.718Z"
   },
   {
    "duration": 1109,
    "start_time": "2023-01-29T12:16:34.410Z"
   },
   {
    "duration": 80,
    "start_time": "2023-01-29T12:16:35.521Z"
   },
   {
    "duration": 11,
    "start_time": "2023-01-29T12:16:35.602Z"
   },
   {
    "duration": 4,
    "start_time": "2023-01-29T12:16:35.616Z"
   },
   {
    "duration": 13,
    "start_time": "2023-01-29T12:16:35.621Z"
   },
   {
    "duration": 6,
    "start_time": "2023-01-29T12:16:35.636Z"
   },
   {
    "duration": 62,
    "start_time": "2023-01-29T12:16:35.644Z"
   },
   {
    "duration": 19,
    "start_time": "2023-01-29T12:16:35.708Z"
   },
   {
    "duration": 9,
    "start_time": "2023-01-29T12:16:35.729Z"
   },
   {
    "duration": 17,
    "start_time": "2023-01-29T12:16:35.740Z"
   },
   {
    "duration": 16,
    "start_time": "2023-01-29T12:16:35.759Z"
   },
   {
    "duration": 20,
    "start_time": "2023-01-29T12:16:35.776Z"
   },
   {
    "duration": 176,
    "start_time": "2023-01-29T12:16:35.798Z"
   },
   {
    "duration": 129,
    "start_time": "2023-01-29T12:16:35.975Z"
   },
   {
    "duration": 24,
    "start_time": "2023-01-29T12:16:36.106Z"
   },
   {
    "duration": 294,
    "start_time": "2023-01-29T12:16:36.132Z"
   },
   {
    "duration": 200,
    "start_time": "2023-01-29T12:16:36.427Z"
   },
   {
    "duration": 288,
    "start_time": "2023-01-29T12:16:36.629Z"
   },
   {
    "duration": 8,
    "start_time": "2023-01-29T12:16:36.921Z"
   },
   {
    "duration": 224,
    "start_time": "2023-01-29T12:16:36.931Z"
   },
   {
    "duration": 267,
    "start_time": "2023-01-29T12:16:37.156Z"
   },
   {
    "duration": 129,
    "start_time": "2023-01-29T12:16:37.425Z"
   },
   {
    "duration": 5,
    "start_time": "2023-01-29T12:16:37.556Z"
   },
   {
    "duration": 7,
    "start_time": "2023-01-29T12:16:37.563Z"
   },
   {
    "duration": 142,
    "start_time": "2023-01-29T12:16:37.571Z"
   },
   {
    "duration": 8,
    "start_time": "2023-01-29T12:16:37.715Z"
   },
   {
    "duration": 13,
    "start_time": "2023-01-29T12:16:37.725Z"
   },
   {
    "duration": 27,
    "start_time": "2023-01-29T12:16:37.741Z"
   },
   {
    "duration": 12,
    "start_time": "2023-01-29T12:16:37.770Z"
   },
   {
    "duration": 42,
    "start_time": "2023-01-29T12:16:37.783Z"
   },
   {
    "duration": 28,
    "start_time": "2023-01-29T12:16:37.827Z"
   },
   {
    "duration": 16,
    "start_time": "2023-01-29T12:16:37.857Z"
   },
   {
    "duration": 319,
    "start_time": "2023-01-29T14:10:22.116Z"
   },
   {
    "duration": 1158,
    "start_time": "2023-01-30T08:20:56.954Z"
   },
   {
    "duration": 122,
    "start_time": "2023-01-30T08:20:58.114Z"
   },
   {
    "duration": 13,
    "start_time": "2023-01-30T08:20:58.238Z"
   },
   {
    "duration": 5,
    "start_time": "2023-01-30T08:20:58.254Z"
   },
   {
    "duration": 11,
    "start_time": "2023-01-30T08:20:58.261Z"
   },
   {
    "duration": 7,
    "start_time": "2023-01-30T08:20:58.274Z"
   },
   {
    "duration": 126,
    "start_time": "2023-01-30T08:20:58.282Z"
   },
   {
    "duration": 18,
    "start_time": "2023-01-30T08:20:58.410Z"
   },
   {
    "duration": 35,
    "start_time": "2023-01-30T08:20:58.429Z"
   },
   {
    "duration": 26,
    "start_time": "2023-01-30T08:20:58.466Z"
   },
   {
    "duration": 15,
    "start_time": "2023-01-30T08:20:58.494Z"
   },
   {
    "duration": 22,
    "start_time": "2023-01-30T08:20:58.510Z"
   },
   {
    "duration": 181,
    "start_time": "2023-01-30T08:20:58.534Z"
   },
   {
    "duration": 137,
    "start_time": "2023-01-30T08:20:58.716Z"
   },
   {
    "duration": 13,
    "start_time": "2023-01-30T08:20:58.854Z"
   },
   {
    "duration": 291,
    "start_time": "2023-01-30T08:20:58.869Z"
   },
   {
    "duration": 200,
    "start_time": "2023-01-30T08:20:59.162Z"
   },
   {
    "duration": 360,
    "start_time": "2023-01-30T08:20:59.363Z"
   },
   {
    "duration": 11,
    "start_time": "2023-01-30T08:20:59.725Z"
   },
   {
    "duration": 208,
    "start_time": "2023-01-30T08:20:59.738Z"
   },
   {
    "duration": 256,
    "start_time": "2023-01-30T08:20:59.948Z"
   },
   {
    "duration": 120,
    "start_time": "2023-01-30T08:21:00.210Z"
   },
   {
    "duration": 5,
    "start_time": "2023-01-30T08:21:00.332Z"
   },
   {
    "duration": 17,
    "start_time": "2023-01-30T08:21:00.340Z"
   },
   {
    "duration": 129,
    "start_time": "2023-01-30T08:21:00.359Z"
   },
   {
    "duration": 5,
    "start_time": "2023-01-30T08:21:00.490Z"
   },
   {
    "duration": 25,
    "start_time": "2023-01-30T08:21:00.497Z"
   },
   {
    "duration": 36,
    "start_time": "2023-01-30T08:21:00.525Z"
   },
   {
    "duration": 41,
    "start_time": "2023-01-30T08:21:00.563Z"
   },
   {
    "duration": 34,
    "start_time": "2023-01-30T08:21:00.606Z"
   },
   {
    "duration": 65,
    "start_time": "2023-01-30T08:21:00.643Z"
   },
   {
    "duration": 53,
    "start_time": "2023-01-30T08:21:00.709Z"
   },
   {
    "duration": 299,
    "start_time": "2023-01-30T08:51:33.711Z"
   },
   {
    "duration": 194,
    "start_time": "2023-01-30T08:52:59.482Z"
   },
   {
    "duration": 332,
    "start_time": "2023-01-30T08:53:55.764Z"
   },
   {
    "duration": 221,
    "start_time": "2023-01-30T08:59:10.243Z"
   },
   {
    "duration": 301,
    "start_time": "2023-01-30T08:59:33.403Z"
   },
   {
    "duration": 123,
    "start_time": "2023-01-30T09:01:37.414Z"
   },
   {
    "duration": 1181,
    "start_time": "2023-01-30T12:16:15.100Z"
   },
   {
    "duration": 170,
    "start_time": "2023-01-30T12:16:16.283Z"
   },
   {
    "duration": 12,
    "start_time": "2023-01-30T12:16:16.455Z"
   },
   {
    "duration": 7,
    "start_time": "2023-01-30T12:16:16.469Z"
   },
   {
    "duration": 17,
    "start_time": "2023-01-30T12:16:16.477Z"
   },
   {
    "duration": 6,
    "start_time": "2023-01-30T12:16:16.496Z"
   },
   {
    "duration": 214,
    "start_time": "2023-01-30T12:16:16.504Z"
   },
   {
    "duration": 19,
    "start_time": "2023-01-30T12:16:16.720Z"
   },
   {
    "duration": 24,
    "start_time": "2023-01-30T12:16:16.741Z"
   },
   {
    "duration": 40,
    "start_time": "2023-01-30T12:16:16.767Z"
   },
   {
    "duration": 25,
    "start_time": "2023-01-30T12:16:16.809Z"
   },
   {
    "duration": 19,
    "start_time": "2023-01-30T12:16:16.836Z"
   },
   {
    "duration": 220,
    "start_time": "2023-01-30T12:16:16.857Z"
   },
   {
    "duration": 164,
    "start_time": "2023-01-30T12:16:17.080Z"
   },
   {
    "duration": 13,
    "start_time": "2023-01-30T12:16:17.245Z"
   },
   {
    "duration": 297,
    "start_time": "2023-01-30T12:16:17.259Z"
   },
   {
    "duration": 197,
    "start_time": "2023-01-30T12:16:17.558Z"
   },
   {
    "duration": 376,
    "start_time": "2023-01-30T12:16:17.756Z"
   },
   {
    "duration": 222,
    "start_time": "2023-01-30T12:16:18.133Z"
   },
   {
    "duration": 311,
    "start_time": "2023-01-30T12:16:18.356Z"
   },
   {
    "duration": 133,
    "start_time": "2023-01-30T12:16:18.669Z"
   },
   {
    "duration": 6,
    "start_time": "2023-01-30T12:16:18.804Z"
   },
   {
    "duration": 147,
    "start_time": "2023-01-30T12:16:18.812Z"
   },
   {
    "duration": 5,
    "start_time": "2023-01-30T12:16:18.960Z"
   },
   {
    "duration": 23,
    "start_time": "2023-01-30T12:16:18.967Z"
   },
   {
    "duration": 34,
    "start_time": "2023-01-30T12:16:18.992Z"
   },
   {
    "duration": 12,
    "start_time": "2023-01-30T12:16:19.027Z"
   },
   {
    "duration": 10,
    "start_time": "2023-01-30T12:16:19.042Z"
   },
   {
    "duration": 54,
    "start_time": "2023-01-30T12:16:19.054Z"
   },
   {
    "duration": 15,
    "start_time": "2023-01-30T12:16:19.110Z"
   },
   {
    "duration": 1293,
    "start_time": "2023-01-30T14:06:18.073Z"
   },
   {
    "duration": 155,
    "start_time": "2023-01-30T14:06:19.368Z"
   },
   {
    "duration": 12,
    "start_time": "2023-01-30T14:06:19.525Z"
   },
   {
    "duration": 6,
    "start_time": "2023-01-30T14:06:19.538Z"
   },
   {
    "duration": 59,
    "start_time": "2023-01-30T14:06:19.546Z"
   },
   {
    "duration": 41,
    "start_time": "2023-01-30T14:06:19.606Z"
   },
   {
    "duration": 241,
    "start_time": "2023-01-30T14:06:19.651Z"
   },
   {
    "duration": 20,
    "start_time": "2023-01-30T14:06:19.894Z"
   },
   {
    "duration": 26,
    "start_time": "2023-01-30T14:06:19.916Z"
   },
   {
    "duration": 33,
    "start_time": "2023-01-30T14:06:19.943Z"
   },
   {
    "duration": 15,
    "start_time": "2023-01-30T14:06:19.978Z"
   },
   {
    "duration": 22,
    "start_time": "2023-01-30T14:06:19.995Z"
   },
   {
    "duration": 248,
    "start_time": "2023-01-30T14:06:20.019Z"
   },
   {
    "duration": 135,
    "start_time": "2023-01-30T14:06:20.272Z"
   },
   {
    "duration": 23,
    "start_time": "2023-01-30T14:06:20.409Z"
   },
   {
    "duration": 362,
    "start_time": "2023-01-30T14:06:20.434Z"
   },
   {
    "duration": 223,
    "start_time": "2023-01-30T14:06:20.798Z"
   },
   {
    "duration": 371,
    "start_time": "2023-01-30T14:06:21.023Z"
   },
   {
    "duration": 273,
    "start_time": "2023-01-30T14:06:21.396Z"
   },
   {
    "duration": 307,
    "start_time": "2023-01-30T14:06:21.672Z"
   },
   {
    "duration": 120,
    "start_time": "2023-01-30T14:06:21.981Z"
   },
   {
    "duration": 4,
    "start_time": "2023-01-30T14:06:22.103Z"
   },
   {
    "duration": 146,
    "start_time": "2023-01-30T14:06:22.109Z"
   },
   {
    "duration": 5,
    "start_time": "2023-01-30T14:06:22.257Z"
   },
   {
    "duration": 30,
    "start_time": "2023-01-30T14:06:22.263Z"
   },
   {
    "duration": 27,
    "start_time": "2023-01-30T14:06:22.295Z"
   },
   {
    "duration": 10,
    "start_time": "2023-01-30T14:06:22.323Z"
   },
   {
    "duration": 19,
    "start_time": "2023-01-30T14:06:22.335Z"
   },
   {
    "duration": 51,
    "start_time": "2023-01-30T14:06:22.355Z"
   },
   {
    "duration": 12,
    "start_time": "2023-01-30T14:06:22.408Z"
   },
   {
    "duration": 36,
    "start_time": "2023-01-30T14:10:48.434Z"
   },
   {
    "duration": 1309,
    "start_time": "2023-01-30T17:59:22.010Z"
   },
   {
    "duration": 144,
    "start_time": "2023-01-30T17:59:23.322Z"
   },
   {
    "duration": 12,
    "start_time": "2023-01-30T17:59:23.468Z"
   },
   {
    "duration": 4,
    "start_time": "2023-01-30T17:59:23.482Z"
   },
   {
    "duration": 38,
    "start_time": "2023-01-30T17:59:23.487Z"
   },
   {
    "duration": 7,
    "start_time": "2023-01-30T17:59:23.527Z"
   },
   {
    "duration": 200,
    "start_time": "2023-01-30T17:59:23.535Z"
   },
   {
    "duration": 22,
    "start_time": "2023-01-30T17:59:23.737Z"
   },
   {
    "duration": 25,
    "start_time": "2023-01-30T17:59:23.760Z"
   },
   {
    "duration": 44,
    "start_time": "2023-01-30T17:59:23.789Z"
   },
   {
    "duration": 6,
    "start_time": "2023-01-30T17:59:23.835Z"
   },
   {
    "duration": 15,
    "start_time": "2023-01-30T17:59:23.842Z"
   },
   {
    "duration": 205,
    "start_time": "2023-01-30T17:59:23.859Z"
   },
   {
    "duration": 151,
    "start_time": "2023-01-30T17:59:24.066Z"
   },
   {
    "duration": 14,
    "start_time": "2023-01-30T17:59:24.219Z"
   },
   {
    "duration": 312,
    "start_time": "2023-01-30T17:59:24.235Z"
   },
   {
    "duration": 217,
    "start_time": "2023-01-30T17:59:24.549Z"
   },
   {
    "duration": 371,
    "start_time": "2023-01-30T17:59:24.767Z"
   },
   {
    "duration": 249,
    "start_time": "2023-01-30T17:59:25.140Z"
   },
   {
    "duration": 329,
    "start_time": "2023-01-30T17:59:25.391Z"
   },
   {
    "duration": 128,
    "start_time": "2023-01-30T17:59:25.723Z"
   },
   {
    "duration": 4,
    "start_time": "2023-01-30T17:59:25.853Z"
   },
   {
    "duration": 161,
    "start_time": "2023-01-30T17:59:25.859Z"
   },
   {
    "duration": 6,
    "start_time": "2023-01-30T17:59:26.022Z"
   },
   {
    "duration": 15,
    "start_time": "2023-01-30T17:59:26.029Z"
   },
   {
    "duration": 28,
    "start_time": "2023-01-30T17:59:26.046Z"
   },
   {
    "duration": 19,
    "start_time": "2023-01-30T17:59:26.096Z"
   },
   {
    "duration": 23,
    "start_time": "2023-01-30T17:59:26.118Z"
   },
   {
    "duration": 33,
    "start_time": "2023-01-30T17:59:26.143Z"
   },
   {
    "duration": 40,
    "start_time": "2023-01-30T17:59:26.178Z"
   },
   {
    "duration": 134,
    "start_time": "2023-01-30T18:00:02.044Z"
   },
   {
    "duration": 17,
    "start_time": "2023-01-30T18:00:13.728Z"
   },
   {
    "duration": 17,
    "start_time": "2023-01-30T18:00:18.372Z"
   },
   {
    "duration": 15,
    "start_time": "2023-01-30T18:00:39.819Z"
   },
   {
    "duration": 23,
    "start_time": "2023-01-30T18:00:51.891Z"
   },
   {
    "duration": 17,
    "start_time": "2023-01-30T18:01:24.718Z"
   },
   {
    "duration": 15,
    "start_time": "2023-01-30T18:01:28.219Z"
   },
   {
    "duration": 46,
    "start_time": "2023-01-31T06:36:04.834Z"
   },
   {
    "duration": 1157,
    "start_time": "2023-01-31T06:36:17.095Z"
   },
   {
    "duration": 127,
    "start_time": "2023-01-31T06:36:18.255Z"
   },
   {
    "duration": 13,
    "start_time": "2023-01-31T06:36:18.384Z"
   },
   {
    "duration": 14,
    "start_time": "2023-01-31T06:36:18.399Z"
   },
   {
    "duration": 11,
    "start_time": "2023-01-31T06:36:18.417Z"
   },
   {
    "duration": 7,
    "start_time": "2023-01-31T06:36:18.430Z"
   },
   {
    "duration": 118,
    "start_time": "2023-01-31T06:36:18.440Z"
   },
   {
    "duration": 18,
    "start_time": "2023-01-31T06:36:18.560Z"
   },
   {
    "duration": 7,
    "start_time": "2023-01-31T06:36:18.580Z"
   },
   {
    "duration": 16,
    "start_time": "2023-01-31T06:36:18.588Z"
   },
   {
    "duration": 8,
    "start_time": "2023-01-31T06:36:18.606Z"
   },
   {
    "duration": 12,
    "start_time": "2023-01-31T06:36:18.616Z"
   },
   {
    "duration": 172,
    "start_time": "2023-01-31T06:36:18.630Z"
   },
   {
    "duration": 125,
    "start_time": "2023-01-31T06:36:18.805Z"
   },
   {
    "duration": 11,
    "start_time": "2023-01-31T06:36:18.932Z"
   },
   {
    "duration": 115,
    "start_time": "2023-01-31T06:36:18.944Z"
   },
   {
    "duration": 0,
    "start_time": "2023-01-31T06:36:19.061Z"
   },
   {
    "duration": 0,
    "start_time": "2023-01-31T06:36:19.062Z"
   },
   {
    "duration": 0,
    "start_time": "2023-01-31T06:36:19.063Z"
   },
   {
    "duration": 0,
    "start_time": "2023-01-31T06:36:19.065Z"
   },
   {
    "duration": 0,
    "start_time": "2023-01-31T06:36:19.065Z"
   },
   {
    "duration": 0,
    "start_time": "2023-01-31T06:36:19.066Z"
   },
   {
    "duration": 0,
    "start_time": "2023-01-31T06:36:19.067Z"
   },
   {
    "duration": 0,
    "start_time": "2023-01-31T06:36:19.069Z"
   },
   {
    "duration": 0,
    "start_time": "2023-01-31T06:36:19.069Z"
   },
   {
    "duration": 0,
    "start_time": "2023-01-31T06:36:19.070Z"
   },
   {
    "duration": 0,
    "start_time": "2023-01-31T06:36:19.072Z"
   },
   {
    "duration": 0,
    "start_time": "2023-01-31T06:36:19.093Z"
   },
   {
    "duration": 0,
    "start_time": "2023-01-31T06:36:19.095Z"
   },
   {
    "duration": 0,
    "start_time": "2023-01-31T06:36:19.096Z"
   },
   {
    "duration": 307,
    "start_time": "2023-01-31T06:38:23.693Z"
   },
   {
    "duration": 182,
    "start_time": "2023-01-31T06:38:26.231Z"
   },
   {
    "duration": 345,
    "start_time": "2023-01-31T06:38:26.591Z"
   },
   {
    "duration": 231,
    "start_time": "2023-01-31T06:38:26.938Z"
   },
   {
    "duration": 278,
    "start_time": "2023-01-31T06:38:27.302Z"
   },
   {
    "duration": 108,
    "start_time": "2023-01-31T06:38:28.204Z"
   },
   {
    "duration": 4,
    "start_time": "2023-01-31T06:38:28.617Z"
   },
   {
    "duration": 118,
    "start_time": "2023-01-31T06:38:29.019Z"
   },
   {
    "duration": 5,
    "start_time": "2023-01-31T06:38:29.419Z"
   },
   {
    "duration": 13,
    "start_time": "2023-01-31T06:38:30.292Z"
   },
   {
    "duration": 26,
    "start_time": "2023-01-31T06:38:30.518Z"
   },
   {
    "duration": 12,
    "start_time": "2023-01-31T06:38:31.444Z"
   },
   {
    "duration": 11,
    "start_time": "2023-01-31T06:38:34.872Z"
   },
   {
    "duration": 29,
    "start_time": "2023-01-31T06:38:35.517Z"
   },
   {
    "duration": 14,
    "start_time": "2023-01-31T06:38:36.524Z"
   },
   {
    "duration": 226,
    "start_time": "2023-01-31T06:39:22.253Z"
   },
   {
    "duration": 193,
    "start_time": "2023-01-31T06:39:28.988Z"
   },
   {
    "duration": 340,
    "start_time": "2023-01-31T06:39:32.463Z"
   },
   {
    "duration": 221,
    "start_time": "2023-01-31T06:39:37.143Z"
   },
   {
    "duration": 13,
    "start_time": "2023-01-31T06:41:30.798Z"
   },
   {
    "duration": 11,
    "start_time": "2023-01-31T06:42:27.698Z"
   },
   {
    "duration": 16,
    "start_time": "2023-01-31T06:43:03.342Z"
   },
   {
    "duration": 317,
    "start_time": "2023-01-31T06:45:26.487Z"
   },
   {
    "duration": 326,
    "start_time": "2023-01-31T06:45:37.991Z"
   },
   {
    "duration": 113,
    "start_time": "2023-01-31T06:45:45.125Z"
   },
   {
    "duration": 153,
    "start_time": "2023-01-31T06:45:53.255Z"
   },
   {
    "duration": 306,
    "start_time": "2023-01-31T06:46:59.605Z"
   },
   {
    "duration": 294,
    "start_time": "2023-01-31T06:47:26.517Z"
   },
   {
    "duration": 284,
    "start_time": "2023-01-31T06:47:36.903Z"
   },
   {
    "duration": 241,
    "start_time": "2023-01-31T06:49:52.149Z"
   },
   {
    "duration": 258,
    "start_time": "2023-01-31T06:50:32.440Z"
   },
   {
    "duration": 221,
    "start_time": "2023-01-31T06:51:10.081Z"
   },
   {
    "duration": 286,
    "start_time": "2023-01-31T06:51:31.878Z"
   },
   {
    "duration": 186,
    "start_time": "2023-01-31T06:51:51.047Z"
   },
   {
    "duration": 7,
    "start_time": "2023-01-31T06:52:15.437Z"
   },
   {
    "duration": 10,
    "start_time": "2023-01-31T06:52:19.629Z"
   },
   {
    "duration": 235,
    "start_time": "2023-01-31T06:52:43.318Z"
   },
   {
    "duration": 114,
    "start_time": "2023-01-31T07:04:49.881Z"
   },
   {
    "duration": 131,
    "start_time": "2023-01-31T07:04:54.810Z"
   },
   {
    "duration": 145,
    "start_time": "2023-01-31T07:05:42.335Z"
   },
   {
    "duration": 10,
    "start_time": "2023-01-31T07:40:40.620Z"
   },
   {
    "duration": 43,
    "start_time": "2023-01-31T07:41:38.325Z"
   },
   {
    "duration": 66,
    "start_time": "2023-01-31T11:04:48.993Z"
   },
   {
    "duration": 12,
    "start_time": "2023-01-31T11:05:49.016Z"
   },
   {
    "duration": 3,
    "start_time": "2023-01-31T11:06:48.391Z"
   },
   {
    "duration": 11,
    "start_time": "2023-01-31T11:06:52.039Z"
   },
   {
    "duration": 3,
    "start_time": "2023-01-31T11:07:04.783Z"
   },
   {
    "duration": 3,
    "start_time": "2023-01-31T11:11:44.943Z"
   },
   {
    "duration": 19,
    "start_time": "2023-01-31T11:11:47.687Z"
   },
   {
    "duration": 11,
    "start_time": "2023-01-31T11:11:51.679Z"
   },
   {
    "duration": 3,
    "start_time": "2023-01-31T11:12:18.536Z"
   },
   {
    "duration": 3,
    "start_time": "2023-01-31T11:12:23.106Z"
   },
   {
    "duration": 3,
    "start_time": "2023-01-31T11:12:26.534Z"
   },
   {
    "duration": 11,
    "start_time": "2023-01-31T11:12:30.006Z"
   },
   {
    "duration": 14,
    "start_time": "2023-01-31T11:13:00.097Z"
   },
   {
    "duration": 3,
    "start_time": "2023-01-31T11:13:13.160Z"
   },
   {
    "duration": 11,
    "start_time": "2023-01-31T11:13:36.106Z"
   },
   {
    "duration": 9,
    "start_time": "2023-01-31T11:13:43.337Z"
   },
   {
    "duration": 1087,
    "start_time": "2023-01-31T11:14:16.751Z"
   },
   {
    "duration": 76,
    "start_time": "2023-01-31T11:14:17.839Z"
   },
   {
    "duration": 76,
    "start_time": "2023-01-31T11:14:17.916Z"
   },
   {
    "duration": 16,
    "start_time": "2023-01-31T11:14:17.995Z"
   },
   {
    "duration": 13,
    "start_time": "2023-01-31T11:14:18.018Z"
   },
   {
    "duration": 12,
    "start_time": "2023-01-31T11:14:18.033Z"
   },
   {
    "duration": 25,
    "start_time": "2023-01-31T11:14:18.046Z"
   },
   {
    "duration": 68,
    "start_time": "2023-01-31T11:14:18.073Z"
   },
   {
    "duration": 23,
    "start_time": "2023-01-31T11:14:18.143Z"
   },
   {
    "duration": 26,
    "start_time": "2023-01-31T11:14:18.169Z"
   },
   {
    "duration": 32,
    "start_time": "2023-01-31T11:14:18.198Z"
   },
   {
    "duration": 8,
    "start_time": "2023-01-31T11:14:18.232Z"
   },
   {
    "duration": 14,
    "start_time": "2023-01-31T11:14:18.241Z"
   },
   {
    "duration": 189,
    "start_time": "2023-01-31T11:14:18.256Z"
   },
   {
    "duration": 152,
    "start_time": "2023-01-31T11:14:18.446Z"
   },
   {
    "duration": 11,
    "start_time": "2023-01-31T11:14:18.604Z"
   },
   {
    "duration": 315,
    "start_time": "2023-01-31T11:14:18.617Z"
   },
   {
    "duration": 213,
    "start_time": "2023-01-31T11:14:18.933Z"
   },
   {
    "duration": 298,
    "start_time": "2023-01-31T11:14:19.147Z"
   },
   {
    "duration": 258,
    "start_time": "2023-01-31T11:14:19.447Z"
   },
   {
    "duration": 300,
    "start_time": "2023-01-31T11:14:19.707Z"
   },
   {
    "duration": 129,
    "start_time": "2023-01-31T11:14:20.010Z"
   },
   {
    "duration": 5,
    "start_time": "2023-01-31T11:14:20.141Z"
   },
   {
    "duration": 159,
    "start_time": "2023-01-31T11:14:20.147Z"
   },
   {
    "duration": 6,
    "start_time": "2023-01-31T11:14:20.308Z"
   },
   {
    "duration": 19,
    "start_time": "2023-01-31T11:14:20.316Z"
   },
   {
    "duration": 36,
    "start_time": "2023-01-31T11:14:20.337Z"
   },
   {
    "duration": 31,
    "start_time": "2023-01-31T11:14:20.376Z"
   },
   {
    "duration": 13,
    "start_time": "2023-01-31T11:14:20.409Z"
   },
   {
    "duration": 28,
    "start_time": "2023-01-31T11:14:20.424Z"
   },
   {
    "duration": 13,
    "start_time": "2023-01-31T11:14:20.453Z"
   },
   {
    "duration": 12,
    "start_time": "2023-01-31T11:18:28.205Z"
   },
   {
    "duration": 47,
    "start_time": "2023-01-31T11:18:34.793Z"
   },
   {
    "duration": 14,
    "start_time": "2023-01-31T11:18:45.978Z"
   },
   {
    "duration": 10,
    "start_time": "2023-01-31T11:18:49.978Z"
   },
   {
    "duration": 113,
    "start_time": "2023-01-31T11:19:32.794Z"
   },
   {
    "duration": 9,
    "start_time": "2023-01-31T11:19:37.465Z"
   },
   {
    "duration": 9,
    "start_time": "2023-01-31T11:19:48.064Z"
   },
   {
    "duration": 10,
    "start_time": "2023-01-31T11:21:02.400Z"
   },
   {
    "duration": 29,
    "start_time": "2023-01-31T11:21:12.177Z"
   },
   {
    "duration": 35,
    "start_time": "2023-01-31T11:21:20.345Z"
   },
   {
    "duration": 17,
    "start_time": "2023-01-31T11:21:23.866Z"
   },
   {
    "duration": 26,
    "start_time": "2023-01-31T11:21:27.681Z"
   },
   {
    "duration": 11,
    "start_time": "2023-01-31T11:21:53.057Z"
   },
   {
    "duration": 19,
    "start_time": "2023-01-31T11:22:15.945Z"
   },
   {
    "duration": 22,
    "start_time": "2023-01-31T11:25:49.006Z"
   },
   {
    "duration": 26,
    "start_time": "2023-01-31T11:25:53.483Z"
   },
   {
    "duration": 22,
    "start_time": "2023-01-31T11:28:34.205Z"
   },
   {
    "duration": 26,
    "start_time": "2023-01-31T11:28:42.681Z"
   },
   {
    "duration": 13,
    "start_time": "2023-01-31T11:29:52.306Z"
   },
   {
    "duration": 12,
    "start_time": "2023-01-31T11:30:28.089Z"
   },
   {
    "duration": 13,
    "start_time": "2023-01-31T11:30:44.729Z"
   },
   {
    "duration": 16,
    "start_time": "2023-01-31T11:31:03.714Z"
   },
   {
    "duration": 13,
    "start_time": "2023-01-31T11:33:50.806Z"
   },
   {
    "duration": 18,
    "start_time": "2023-01-31T11:34:28.393Z"
   },
   {
    "duration": 13,
    "start_time": "2023-01-31T11:35:39.146Z"
   },
   {
    "duration": 7,
    "start_time": "2023-01-31T11:36:09.417Z"
   },
   {
    "duration": 13,
    "start_time": "2023-01-31T11:36:10.059Z"
   },
   {
    "duration": 8,
    "start_time": "2023-01-31T12:10:10.902Z"
   },
   {
    "duration": 8,
    "start_time": "2023-01-31T12:10:13.369Z"
   },
   {
    "duration": 16,
    "start_time": "2023-01-31T12:10:13.545Z"
   },
   {
    "duration": 4,
    "start_time": "2023-01-31T12:10:32.569Z"
   },
   {
    "duration": 6,
    "start_time": "2023-01-31T12:10:32.975Z"
   },
   {
    "duration": 6,
    "start_time": "2023-01-31T12:10:34.999Z"
   },
   {
    "duration": 17,
    "start_time": "2023-01-31T12:10:35.152Z"
   },
   {
    "duration": 1052,
    "start_time": "2023-01-31T12:11:03.004Z"
   },
   {
    "duration": 92,
    "start_time": "2023-01-31T12:11:04.058Z"
   },
   {
    "duration": 18,
    "start_time": "2023-01-31T12:11:04.152Z"
   },
   {
    "duration": 60,
    "start_time": "2023-01-31T12:11:04.173Z"
   },
   {
    "duration": 78,
    "start_time": "2023-01-31T12:11:04.234Z"
   },
   {
    "duration": 25,
    "start_time": "2023-01-31T12:11:04.313Z"
   },
   {
    "duration": 81,
    "start_time": "2023-01-31T12:11:04.340Z"
   },
   {
    "duration": 41,
    "start_time": "2023-01-31T12:11:04.422Z"
   },
   {
    "duration": 17,
    "start_time": "2023-01-31T12:11:04.464Z"
   },
   {
    "duration": 35,
    "start_time": "2023-01-31T12:11:04.485Z"
   },
   {
    "duration": 46,
    "start_time": "2023-01-31T12:11:04.522Z"
   },
   {
    "duration": 61,
    "start_time": "2023-01-31T12:11:04.570Z"
   },
   {
    "duration": 54,
    "start_time": "2023-01-31T12:11:04.633Z"
   },
   {
    "duration": 209,
    "start_time": "2023-01-31T12:11:04.689Z"
   },
   {
    "duration": 117,
    "start_time": "2023-01-31T12:11:04.900Z"
   },
   {
    "duration": 8,
    "start_time": "2023-01-31T12:11:05.019Z"
   },
   {
    "duration": 314,
    "start_time": "2023-01-31T12:11:05.028Z"
   },
   {
    "duration": 195,
    "start_time": "2023-01-31T12:11:05.344Z"
   },
   {
    "duration": 292,
    "start_time": "2023-01-31T12:11:05.541Z"
   },
   {
    "duration": 219,
    "start_time": "2023-01-31T12:11:05.835Z"
   },
   {
    "duration": 354,
    "start_time": "2023-01-31T12:11:06.056Z"
   },
   {
    "duration": 126,
    "start_time": "2023-01-31T12:11:06.412Z"
   },
   {
    "duration": 5,
    "start_time": "2023-01-31T12:11:06.540Z"
   },
   {
    "duration": 163,
    "start_time": "2023-01-31T12:11:06.546Z"
   },
   {
    "duration": 5,
    "start_time": "2023-01-31T12:11:06.711Z"
   },
   {
    "duration": 25,
    "start_time": "2023-01-31T12:11:06.717Z"
   },
   {
    "duration": 44,
    "start_time": "2023-01-31T12:11:06.743Z"
   },
   {
    "duration": 15,
    "start_time": "2023-01-31T12:11:06.790Z"
   },
   {
    "duration": 44,
    "start_time": "2023-01-31T12:11:06.807Z"
   },
   {
    "duration": 71,
    "start_time": "2023-01-31T12:11:06.852Z"
   },
   {
    "duration": 17,
    "start_time": "2023-01-31T12:11:06.925Z"
   },
   {
    "duration": 49,
    "start_time": "2023-01-31T12:12:10.268Z"
   },
   {
    "duration": 102,
    "start_time": "2023-01-31T12:13:46.842Z"
   },
   {
    "duration": 7,
    "start_time": "2023-01-31T12:13:56.583Z"
   },
   {
    "duration": 6,
    "start_time": "2023-01-31T12:14:11.567Z"
   },
   {
    "duration": 6,
    "start_time": "2023-01-31T12:15:16.263Z"
   },
   {
    "duration": 861,
    "start_time": "2023-01-31T12:35:49.027Z"
   },
   {
    "duration": 874,
    "start_time": "2023-01-31T12:35:55.660Z"
   },
   {
    "duration": 814,
    "start_time": "2023-01-31T12:36:12.227Z"
   },
   {
    "duration": 4,
    "start_time": "2023-01-31T12:36:22.842Z"
   },
   {
    "duration": 6,
    "start_time": "2023-01-31T12:36:23.019Z"
   },
   {
    "duration": 5,
    "start_time": "2023-01-31T12:36:32.458Z"
   },
   {
    "duration": 6,
    "start_time": "2023-01-31T12:37:28.859Z"
   },
   {
    "duration": 5,
    "start_time": "2023-01-31T12:38:19.563Z"
   },
   {
    "duration": 12,
    "start_time": "2023-01-31T12:38:32.491Z"
   },
   {
    "duration": 4,
    "start_time": "2023-01-31T12:39:16.042Z"
   },
   {
    "duration": 4,
    "start_time": "2023-01-31T12:39:18.116Z"
   },
   {
    "duration": 6,
    "start_time": "2023-01-31T12:39:21.227Z"
   },
   {
    "duration": 6,
    "start_time": "2023-01-31T12:41:19.076Z"
   },
   {
    "duration": 6,
    "start_time": "2023-01-31T12:42:03.020Z"
   },
   {
    "duration": 5,
    "start_time": "2023-01-31T12:42:10.220Z"
   },
   {
    "duration": 8,
    "start_time": "2023-01-31T12:42:16.332Z"
   },
   {
    "duration": 12,
    "start_time": "2023-01-31T12:46:05.340Z"
   },
   {
    "duration": 68,
    "start_time": "2023-01-31T12:48:42.661Z"
   },
   {
    "duration": 64,
    "start_time": "2023-01-31T12:59:45.565Z"
   },
   {
    "duration": 48,
    "start_time": "2023-01-31T12:59:55.830Z"
   },
   {
    "duration": 53,
    "start_time": "2023-01-31T13:02:34.413Z"
   },
   {
    "duration": 47,
    "start_time": "2023-01-31T13:03:23.622Z"
   },
   {
    "duration": 47,
    "start_time": "2023-01-31T13:03:38.935Z"
   },
   {
    "duration": 865,
    "start_time": "2023-01-31T13:03:48.406Z"
   },
   {
    "duration": 853,
    "start_time": "2023-01-31T13:05:00.106Z"
   },
   {
    "duration": 798,
    "start_time": "2023-01-31T13:05:51.712Z"
   },
   {
    "duration": 881,
    "start_time": "2023-01-31T13:05:57.768Z"
   },
   {
    "duration": 5,
    "start_time": "2023-01-31T13:07:53.906Z"
   },
   {
    "duration": 6,
    "start_time": "2023-01-31T13:09:24.311Z"
   },
   {
    "duration": 63,
    "start_time": "2023-01-31T13:12:30.951Z"
   },
   {
    "duration": 10,
    "start_time": "2023-01-31T13:12:36.810Z"
   },
   {
    "duration": 56,
    "start_time": "2023-01-31T13:12:49.281Z"
   },
   {
    "duration": 44,
    "start_time": "2023-01-31T13:12:54.012Z"
   },
   {
    "duration": 43,
    "start_time": "2023-01-31T13:12:57.024Z"
   },
   {
    "duration": 43,
    "start_time": "2023-01-31T13:13:01.936Z"
   },
   {
    "duration": 10,
    "start_time": "2023-01-31T13:13:24.706Z"
   },
   {
    "duration": 15,
    "start_time": "2023-01-31T13:13:35.784Z"
   },
   {
    "duration": 9,
    "start_time": "2023-01-31T13:13:45.664Z"
   },
   {
    "duration": 11,
    "start_time": "2023-01-31T13:15:08.010Z"
   },
   {
    "duration": 8,
    "start_time": "2023-01-31T13:15:40.065Z"
   },
   {
    "duration": 9,
    "start_time": "2023-01-31T13:15:51.609Z"
   },
   {
    "duration": 5,
    "start_time": "2023-01-31T13:15:55.177Z"
   },
   {
    "duration": 4,
    "start_time": "2023-01-31T13:16:07.952Z"
   },
   {
    "duration": 6,
    "start_time": "2023-01-31T13:16:08.324Z"
   },
   {
    "duration": 9,
    "start_time": "2023-01-31T13:16:10.499Z"
   },
   {
    "duration": 8,
    "start_time": "2023-01-31T13:16:12.113Z"
   },
   {
    "duration": 14,
    "start_time": "2023-01-31T13:16:28.984Z"
   },
   {
    "duration": 11,
    "start_time": "2023-01-31T13:16:33.577Z"
   },
   {
    "duration": 10,
    "start_time": "2023-01-31T13:16:52.521Z"
   },
   {
    "duration": 11,
    "start_time": "2023-01-31T13:17:17.857Z"
   },
   {
    "duration": 10,
    "start_time": "2023-01-31T13:17:40.361Z"
   },
   {
    "duration": 14,
    "start_time": "2023-01-31T13:18:08.962Z"
   },
   {
    "duration": 7,
    "start_time": "2023-01-31T13:18:31.114Z"
   },
   {
    "duration": 14,
    "start_time": "2023-01-31T13:18:44.522Z"
   },
   {
    "duration": 18,
    "start_time": "2023-01-31T13:18:52.882Z"
   },
   {
    "duration": 47,
    "start_time": "2023-01-31T13:19:15.106Z"
   },
   {
    "duration": 13,
    "start_time": "2023-01-31T13:19:24.473Z"
   },
   {
    "duration": 12,
    "start_time": "2023-01-31T13:19:50.641Z"
   },
   {
    "duration": 12,
    "start_time": "2023-01-31T13:19:55.817Z"
   },
   {
    "duration": 6,
    "start_time": "2023-01-31T13:20:11.361Z"
   },
   {
    "duration": 11,
    "start_time": "2023-01-31T13:20:22.473Z"
   },
   {
    "duration": 10,
    "start_time": "2023-01-31T13:21:00.562Z"
   },
   {
    "duration": 5,
    "start_time": "2023-01-31T13:21:26.073Z"
   },
   {
    "duration": 8,
    "start_time": "2023-01-31T13:21:35.553Z"
   },
   {
    "duration": 12,
    "start_time": "2023-01-31T13:21:42.874Z"
   },
   {
    "duration": 56,
    "start_time": "2023-01-31T13:21:54.770Z"
   },
   {
    "duration": 14,
    "start_time": "2023-01-31T13:22:07.521Z"
   },
   {
    "duration": 7,
    "start_time": "2023-01-31T13:30:14.394Z"
   },
   {
    "duration": 4,
    "start_time": "2023-01-31T13:30:24.445Z"
   },
   {
    "duration": 9,
    "start_time": "2023-01-31T13:30:37.994Z"
   },
   {
    "duration": 1160,
    "start_time": "2023-01-31T14:36:49.743Z"
   },
   {
    "duration": 116,
    "start_time": "2023-01-31T14:36:50.905Z"
   },
   {
    "duration": 11,
    "start_time": "2023-01-31T14:36:51.023Z"
   },
   {
    "duration": 9,
    "start_time": "2023-01-31T14:36:51.036Z"
   },
   {
    "duration": 22,
    "start_time": "2023-01-31T14:36:51.047Z"
   },
   {
    "duration": 17,
    "start_time": "2023-01-31T14:36:51.071Z"
   },
   {
    "duration": 62,
    "start_time": "2023-01-31T14:36:51.089Z"
   },
   {
    "duration": 134,
    "start_time": "2023-01-31T14:36:51.153Z"
   },
   {
    "duration": 16,
    "start_time": "2023-01-31T14:36:51.289Z"
   },
   {
    "duration": 59,
    "start_time": "2023-01-31T14:36:51.308Z"
   },
   {
    "duration": 29,
    "start_time": "2023-01-31T14:36:51.368Z"
   },
   {
    "duration": 44,
    "start_time": "2023-01-31T14:36:51.399Z"
   },
   {
    "duration": 13,
    "start_time": "2023-01-31T14:36:51.444Z"
   },
   {
    "duration": 47,
    "start_time": "2023-01-31T14:36:51.458Z"
   },
   {
    "duration": 33,
    "start_time": "2023-01-31T14:36:51.507Z"
   },
   {
    "duration": 14,
    "start_time": "2023-01-31T14:36:51.542Z"
   },
   {
    "duration": 162,
    "start_time": "2023-01-31T14:36:51.558Z"
   },
   {
    "duration": 135,
    "start_time": "2023-01-31T14:36:51.722Z"
   },
   {
    "duration": 6,
    "start_time": "2023-01-31T14:36:51.859Z"
   },
   {
    "duration": 265,
    "start_time": "2023-01-31T14:36:51.866Z"
   },
   {
    "duration": 180,
    "start_time": "2023-01-31T14:36:52.132Z"
   },
   {
    "duration": 377,
    "start_time": "2023-01-31T14:36:52.314Z"
   },
   {
    "duration": 207,
    "start_time": "2023-01-31T14:36:52.693Z"
   },
   {
    "duration": 283,
    "start_time": "2023-01-31T14:36:52.901Z"
   },
   {
    "duration": 108,
    "start_time": "2023-01-31T14:36:53.186Z"
   },
   {
    "duration": 4,
    "start_time": "2023-01-31T14:36:53.296Z"
   },
   {
    "duration": 136,
    "start_time": "2023-01-31T14:36:53.302Z"
   },
   {
    "duration": 4,
    "start_time": "2023-01-31T14:36:53.441Z"
   },
   {
    "duration": 25,
    "start_time": "2023-01-31T14:36:53.447Z"
   },
   {
    "duration": 22,
    "start_time": "2023-01-31T14:36:53.474Z"
   },
   {
    "duration": 9,
    "start_time": "2023-01-31T14:36:53.498Z"
   },
   {
    "duration": 9,
    "start_time": "2023-01-31T14:36:53.509Z"
   },
   {
    "duration": 51,
    "start_time": "2023-01-31T14:36:53.519Z"
   },
   {
    "duration": 13,
    "start_time": "2023-01-31T14:36:53.571Z"
   },
   {
    "duration": 1211,
    "start_time": "2023-01-31T14:59:23.323Z"
   },
   {
    "duration": 97,
    "start_time": "2023-01-31T14:59:24.537Z"
   },
   {
    "duration": 11,
    "start_time": "2023-01-31T14:59:24.636Z"
   },
   {
    "duration": 36,
    "start_time": "2023-01-31T14:59:24.648Z"
   },
   {
    "duration": 43,
    "start_time": "2023-01-31T14:59:24.687Z"
   },
   {
    "duration": 15,
    "start_time": "2023-01-31T14:59:24.732Z"
   },
   {
    "duration": 85,
    "start_time": "2023-01-31T14:59:24.748Z"
   },
   {
    "duration": 39,
    "start_time": "2023-01-31T14:59:24.835Z"
   },
   {
    "duration": 19,
    "start_time": "2023-01-31T14:59:24.876Z"
   },
   {
    "duration": 51,
    "start_time": "2023-01-31T14:59:24.900Z"
   },
   {
    "duration": 27,
    "start_time": "2023-01-31T14:59:24.952Z"
   },
   {
    "duration": 57,
    "start_time": "2023-01-31T14:59:24.981Z"
   },
   {
    "duration": 38,
    "start_time": "2023-01-31T14:59:25.040Z"
   },
   {
    "duration": 19,
    "start_time": "2023-01-31T14:59:25.081Z"
   },
   {
    "duration": 65,
    "start_time": "2023-01-31T14:59:25.101Z"
   },
   {
    "duration": 21,
    "start_time": "2023-01-31T14:59:25.168Z"
   },
   {
    "duration": 241,
    "start_time": "2023-01-31T14:59:25.191Z"
   },
   {
    "duration": 144,
    "start_time": "2023-01-31T14:59:25.434Z"
   },
   {
    "duration": 18,
    "start_time": "2023-01-31T14:59:25.580Z"
   },
   {
    "duration": 339,
    "start_time": "2023-01-31T14:59:25.603Z"
   },
   {
    "duration": 227,
    "start_time": "2023-01-31T14:59:25.943Z"
   },
   {
    "duration": 359,
    "start_time": "2023-01-31T14:59:26.172Z"
   },
   {
    "duration": 249,
    "start_time": "2023-01-31T14:59:26.533Z"
   },
   {
    "duration": 365,
    "start_time": "2023-01-31T14:59:26.784Z"
   },
   {
    "duration": 165,
    "start_time": "2023-01-31T14:59:27.151Z"
   },
   {
    "duration": 8,
    "start_time": "2023-01-31T14:59:27.320Z"
   },
   {
    "duration": 190,
    "start_time": "2023-01-31T14:59:27.330Z"
   },
   {
    "duration": 7,
    "start_time": "2023-01-31T14:59:27.524Z"
   },
   {
    "duration": 37,
    "start_time": "2023-01-31T14:59:27.533Z"
   },
   {
    "duration": 38,
    "start_time": "2023-01-31T14:59:27.572Z"
   },
   {
    "duration": 14,
    "start_time": "2023-01-31T14:59:27.612Z"
   },
   {
    "duration": 15,
    "start_time": "2023-01-31T14:59:27.628Z"
   },
   {
    "duration": 39,
    "start_time": "2023-01-31T14:59:27.644Z"
   },
   {
    "duration": 18,
    "start_time": "2023-01-31T14:59:27.685Z"
   },
   {
    "duration": 9,
    "start_time": "2023-01-31T15:01:45.473Z"
   },
   {
    "duration": 8,
    "start_time": "2023-01-31T15:01:48.851Z"
   },
   {
    "duration": 13,
    "start_time": "2023-01-31T15:01:53.185Z"
   },
   {
    "duration": 9,
    "start_time": "2023-01-31T15:02:09.348Z"
   },
   {
    "duration": 11,
    "start_time": "2023-01-31T15:02:27.556Z"
   },
   {
    "duration": 9,
    "start_time": "2023-01-31T15:02:34.738Z"
   }
  ],
  "kernelspec": {
   "display_name": "Python 3 (ipykernel)",
   "language": "python",
   "name": "python3"
  },
  "language_info": {
   "codemirror_mode": {
    "name": "ipython",
    "version": 3
   },
   "file_extension": ".py",
   "mimetype": "text/x-python",
   "name": "python",
   "nbconvert_exporter": "python",
   "pygments_lexer": "ipython3",
   "version": "3.9.12"
  },
  "toc": {
   "base_numbering": 1,
   "nav_menu": {},
   "number_sections": true,
   "sideBar": true,
   "skip_h1_title": true,
   "title_cell": "Содержание",
   "title_sidebar": "Contents",
   "toc_cell": true,
   "toc_position": {
    "height": "calc(100% - 180px)",
    "left": "10px",
    "top": "150px",
    "width": "366.188px"
   },
   "toc_section_display": true,
   "toc_window_display": true
  }
 },
 "nbformat": 4,
 "nbformat_minor": 2
}
